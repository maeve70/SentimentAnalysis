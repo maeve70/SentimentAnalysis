{
  "nbformat": 4,
  "nbformat_minor": 0,
  "metadata": {
    "colab": {
      "provenance": [],
      "collapsed_sections": [],
      "mount_file_id": "1teMefiwyXPNLv38feThDkzyMpenAYNUy",
      "authorship_tag": "ABX9TyOYwpWr4hVRi3a4vtUehpnO",
      "include_colab_link": true
    },
    "kernelspec": {
      "name": "python3",
      "display_name": "Python 3"
    },
    "language_info": {
      "name": "python"
    }
  },
  "cells": [
    {
      "cell_type": "markdown",
      "metadata": {
        "id": "view-in-github",
        "colab_type": "text"
      },
      "source": [
        "<a href=\"https://colab.research.google.com/github/maeve70/SentimentAnalysis/blob/main/SentimentAnalysis.ipynb\" target=\"_parent\"><img src=\"https://colab.research.google.com/assets/colab-badge.svg\" alt=\"Open In Colab\"/></a>"
      ]
    },
    {
      "cell_type": "markdown",
      "source": [
        "I had started to use an IFTTT applet back in 2017 to track the tweets of 3 twitter accounts: @realDonaldTrump , @POTUS, @PressSec (if you didn't know, Dan Scavino, former WH Deputy Chief of Staff,  was behind the Potus account.) because I wanted to see frequency of tweets, how many tweets based on certain words contained in the tweets etc. \n",
        "\n",
        "The applet (not created by me) tracked the accounts and put the tweets, and a link to the tweets into a Google Sheet. I had a couple data vizzes in Tableau:\n",
        "Here from 4/1/2017 - 8/1/2019:\n",
        "\n",
        "https://public.tableau.com/app/profile/lisa3690/viz/Twitter_39/Dashboard1\n",
        "\n",
        "and this one is just his tweets from 12/2017 - 2/1/2021\n",
        "\n",
        "https://public.tableau.com/app/profile/lisa3690/viz/DrumpfTweets12-17-PresentDay/FrequencybySubjectMonth\n",
        "\n",
        "The spreadsheet does include links to the tweets, however, since a certain someone is no longer on Twitter, you cannot see them. And, the other two accounts have been replaced by the current Biden administration personnel.\n",
        "The csv file is a historical record of the tweets at those timeframes. The dates for this data set of tweets is 3/14/2017 - 8/10/2018.\n",
        "\n",
        "I wanted to try out Vader. What is below is me learning how to use Vader to analyze the sentiments of the tweets. I'm not sure what I'll find. It's all a learning process! :)"
      ],
      "metadata": {
        "id": "DAC9LxsIxY_m"
      }
    },
    {
      "cell_type": "markdown",
      "source": [
        "Vader: Valence Aware Dictionary for Sentiment Reasoning\n",
        "\n"
      ],
      "metadata": {
        "id": "3C1w5TL-sKMv"
      }
    },
    {
      "cell_type": "code",
      "execution_count": null,
      "metadata": {
        "id": "ZT2fRgWgPEju"
      },
      "outputs": [],
      "source": [
        "#pip install vaderSentiment"
      ]
    },
    {
      "cell_type": "code",
      "source": [
        "import pandas as pd\n",
        "import seaborn as sns;\n",
        "from matplotlib import pyplot as plt\n",
        "import numpy as np\n",
        "import nltk\n",
        "import nltk.corpus\n",
        "nltk.download('vader_lexicon')\n",
        "from nltk.sentiment.vader import SentimentIntensityAnalyzer\n",
        "\n",
        "sid = SentimentIntensityAnalyzer()"
      ],
      "metadata": {
        "id": "zJbHgOGAPIoh",
        "colab": {
          "base_uri": "https://localhost:8080/"
        },
        "outputId": "b26209d4-66d3-47f2-e8c7-da8379b401e3"
      },
      "execution_count": 1,
      "outputs": [
        {
          "output_type": "stream",
          "name": "stderr",
          "text": [
            "[nltk_data] Downloading package vader_lexicon to /root/nltk_data...\n"
          ]
        }
      ]
    },
    {
      "cell_type": "markdown",
      "source": [
        "Sentiment Intensity Analyzer, sid classifies a string into 1 of 4 categories:\n",
        "- negative\n",
        "- neutral\n",
        "- positive\n",
        "- compound (computed by normalizing the scores above)"
      ],
      "metadata": {
        "id": "cJP6EPF0srLx"
      }
    },
    {
      "cell_type": "code",
      "source": [
        "#from google.colab import drive\n",
        "#drive.mount('/content/drive')"
      ],
      "metadata": {
        "id": "FBamQRBbPIlO",
        "colab": {
          "base_uri": "https://localhost:8080/"
        },
        "outputId": "8d373f40-f0b3-48fb-f33d-55234ad2616b"
      },
      "execution_count": null,
      "outputs": [
        {
          "output_type": "stream",
          "name": "stdout",
          "text": [
            "Drive already mounted at /content/drive; to attempt to forcibly remount, call drive.mount(\"/content/drive\", force_remount=True).\n"
          ]
        }
      ]
    },
    {
      "cell_type": "markdown",
      "source": [
        "It's actually easier to uplodad the csv to GH and grab it from there, rather than mounting the notebook to GDrive."
      ],
      "metadata": {
        "id": "2ff1rVOx1dfB"
      }
    },
    {
      "cell_type": "markdown",
      "source": [
        "https://docs.gspread.org/en/v5.6.2/\n",
        "\n",
        "Use the code in the 2 cells below if importing/connecting to a gsheet file."
      ],
      "metadata": {
        "id": "13msPizZULh3"
      }
    },
    {
      "cell_type": "code",
      "source": [
        "#@title unused code\n",
        "'''from google.colab import auth\n",
        "import gspread\n",
        "from google.auth import default\n",
        "\n",
        "#autenticating to google\n",
        "auth.authenticate_user()\n",
        "creds, _ = default()\n",
        "gc = gspread.authorize(creds)'''"
      ],
      "metadata": {
        "id": "dbgTgaklPIeu",
        "cellView": "form"
      },
      "execution_count": null,
      "outputs": []
    },
    {
      "cell_type": "code",
      "source": [
        "#@title more unused code using gspread\n",
        "'''\n",
        "#defining my worksheet\n",
        "worksheet = gc.open('Mastersheet').sheet1\n",
        "#get_all_values gives a list of rows\n",
        "rows = worksheet.get_all_values()\n",
        "#Convert to a DataFrame \n",
        "df = pd.DataFrame(rows)'''"
      ],
      "metadata": {
        "id": "ne98sSxCPIVU",
        "cellView": "form"
      },
      "execution_count": null,
      "outputs": []
    },
    {
      "cell_type": "code",
      "source": [
        "df = pd.read_csv('https://raw.githubusercontent.com/maeve70/csvfiles/main/Mastersheet%20-%20orig.csv')"
      ],
      "metadata": {
        "id": "A1r1Hw9y14Zh"
      },
      "execution_count": 2,
      "outputs": []
    },
    {
      "cell_type": "code",
      "source": [
        "df.head()"
      ],
      "metadata": {
        "colab": {
          "base_uri": "https://localhost:8080/",
          "height": 206
        },
        "id": "CeCpKstrUNt0",
        "outputId": "f352a0a8-43df-4a12-a273-380834b726e8"
      },
      "execution_count": 3,
      "outputs": [
        {
          "output_type": "execute_result",
          "data": {
            "text/plain": [
              "               User                                             Tweets  \\\n",
              "0  @realDonaldTrump          JOBS, JOBS, JOBS! https://t.co/wAkQMKdPXA   \n",
              "1  @realDonaldTrump  Great optimism in America – and the results wi...   \n",
              "2  @realDonaldTrump  Does anybody really believe that a reporter, w...   \n",
              "3  @realDonaldTrump  Can you imagine what the outcry would be if @S...   \n",
              "4  @realDonaldTrump  Will be going to Detroit, Michigan (love), tod...   \n",
              "\n",
              "                                       Link to Tweet  \\\n",
              "0  http://twitter.com/realDonaldTrump/status/8416...   \n",
              "1  http://twitter.com/realDonaldTrump/status/8416...   \n",
              "2  http://twitter.com/realDonaldTrump/status/8419...   \n",
              "3  http://twitter.com/realDonaldTrump/status/8419...   \n",
              "4  http://twitter.com/realDonaldTrump/status/8419...   \n",
              "\n",
              "                   Date/Time  \n",
              "0  March 14, 2017 at 11:00AM  \n",
              "1  March 14, 2017 at 12:12PM  \n",
              "2  March 15, 2017 at 06:55AM  \n",
              "3  March 15, 2017 at 07:02AM  \n",
              "4  March 15, 2017 at 07:13AM  "
            ],
            "text/html": [
              "\n",
              "  <div id=\"df-8739d343-d90e-4e8a-b89b-2ccd7163db3e\">\n",
              "    <div class=\"colab-df-container\">\n",
              "      <div>\n",
              "<style scoped>\n",
              "    .dataframe tbody tr th:only-of-type {\n",
              "        vertical-align: middle;\n",
              "    }\n",
              "\n",
              "    .dataframe tbody tr th {\n",
              "        vertical-align: top;\n",
              "    }\n",
              "\n",
              "    .dataframe thead th {\n",
              "        text-align: right;\n",
              "    }\n",
              "</style>\n",
              "<table border=\"1\" class=\"dataframe\">\n",
              "  <thead>\n",
              "    <tr style=\"text-align: right;\">\n",
              "      <th></th>\n",
              "      <th>User</th>\n",
              "      <th>Tweets</th>\n",
              "      <th>Link to Tweet</th>\n",
              "      <th>Date/Time</th>\n",
              "    </tr>\n",
              "  </thead>\n",
              "  <tbody>\n",
              "    <tr>\n",
              "      <th>0</th>\n",
              "      <td>@realDonaldTrump</td>\n",
              "      <td>JOBS, JOBS, JOBS! https://t.co/wAkQMKdPXA</td>\n",
              "      <td>http://twitter.com/realDonaldTrump/status/8416...</td>\n",
              "      <td>March 14, 2017 at 11:00AM</td>\n",
              "    </tr>\n",
              "    <tr>\n",
              "      <th>1</th>\n",
              "      <td>@realDonaldTrump</td>\n",
              "      <td>Great optimism in America – and the results wi...</td>\n",
              "      <td>http://twitter.com/realDonaldTrump/status/8416...</td>\n",
              "      <td>March 14, 2017 at 12:12PM</td>\n",
              "    </tr>\n",
              "    <tr>\n",
              "      <th>2</th>\n",
              "      <td>@realDonaldTrump</td>\n",
              "      <td>Does anybody really believe that a reporter, w...</td>\n",
              "      <td>http://twitter.com/realDonaldTrump/status/8419...</td>\n",
              "      <td>March 15, 2017 at 06:55AM</td>\n",
              "    </tr>\n",
              "    <tr>\n",
              "      <th>3</th>\n",
              "      <td>@realDonaldTrump</td>\n",
              "      <td>Can you imagine what the outcry would be if @S...</td>\n",
              "      <td>http://twitter.com/realDonaldTrump/status/8419...</td>\n",
              "      <td>March 15, 2017 at 07:02AM</td>\n",
              "    </tr>\n",
              "    <tr>\n",
              "      <th>4</th>\n",
              "      <td>@realDonaldTrump</td>\n",
              "      <td>Will be going to Detroit, Michigan (love), tod...</td>\n",
              "      <td>http://twitter.com/realDonaldTrump/status/8419...</td>\n",
              "      <td>March 15, 2017 at 07:13AM</td>\n",
              "    </tr>\n",
              "  </tbody>\n",
              "</table>\n",
              "</div>\n",
              "      <button class=\"colab-df-convert\" onclick=\"convertToInteractive('df-8739d343-d90e-4e8a-b89b-2ccd7163db3e')\"\n",
              "              title=\"Convert this dataframe to an interactive table.\"\n",
              "              style=\"display:none;\">\n",
              "        \n",
              "  <svg xmlns=\"http://www.w3.org/2000/svg\" height=\"24px\"viewBox=\"0 0 24 24\"\n",
              "       width=\"24px\">\n",
              "    <path d=\"M0 0h24v24H0V0z\" fill=\"none\"/>\n",
              "    <path d=\"M18.56 5.44l.94 2.06.94-2.06 2.06-.94-2.06-.94-.94-2.06-.94 2.06-2.06.94zm-11 1L8.5 8.5l.94-2.06 2.06-.94-2.06-.94L8.5 2.5l-.94 2.06-2.06.94zm10 10l.94 2.06.94-2.06 2.06-.94-2.06-.94-.94-2.06-.94 2.06-2.06.94z\"/><path d=\"M17.41 7.96l-1.37-1.37c-.4-.4-.92-.59-1.43-.59-.52 0-1.04.2-1.43.59L10.3 9.45l-7.72 7.72c-.78.78-.78 2.05 0 2.83L4 21.41c.39.39.9.59 1.41.59.51 0 1.02-.2 1.41-.59l7.78-7.78 2.81-2.81c.8-.78.8-2.07 0-2.86zM5.41 20L4 18.59l7.72-7.72 1.47 1.35L5.41 20z\"/>\n",
              "  </svg>\n",
              "      </button>\n",
              "      \n",
              "  <style>\n",
              "    .colab-df-container {\n",
              "      display:flex;\n",
              "      flex-wrap:wrap;\n",
              "      gap: 12px;\n",
              "    }\n",
              "\n",
              "    .colab-df-convert {\n",
              "      background-color: #E8F0FE;\n",
              "      border: none;\n",
              "      border-radius: 50%;\n",
              "      cursor: pointer;\n",
              "      display: none;\n",
              "      fill: #1967D2;\n",
              "      height: 32px;\n",
              "      padding: 0 0 0 0;\n",
              "      width: 32px;\n",
              "    }\n",
              "\n",
              "    .colab-df-convert:hover {\n",
              "      background-color: #E2EBFA;\n",
              "      box-shadow: 0px 1px 2px rgba(60, 64, 67, 0.3), 0px 1px 3px 1px rgba(60, 64, 67, 0.15);\n",
              "      fill: #174EA6;\n",
              "    }\n",
              "\n",
              "    [theme=dark] .colab-df-convert {\n",
              "      background-color: #3B4455;\n",
              "      fill: #D2E3FC;\n",
              "    }\n",
              "\n",
              "    [theme=dark] .colab-df-convert:hover {\n",
              "      background-color: #434B5C;\n",
              "      box-shadow: 0px 1px 3px 1px rgba(0, 0, 0, 0.15);\n",
              "      filter: drop-shadow(0px 1px 2px rgba(0, 0, 0, 0.3));\n",
              "      fill: #FFFFFF;\n",
              "    }\n",
              "  </style>\n",
              "\n",
              "      <script>\n",
              "        const buttonEl =\n",
              "          document.querySelector('#df-8739d343-d90e-4e8a-b89b-2ccd7163db3e button.colab-df-convert');\n",
              "        buttonEl.style.display =\n",
              "          google.colab.kernel.accessAllowed ? 'block' : 'none';\n",
              "\n",
              "        async function convertToInteractive(key) {\n",
              "          const element = document.querySelector('#df-8739d343-d90e-4e8a-b89b-2ccd7163db3e');\n",
              "          const dataTable =\n",
              "            await google.colab.kernel.invokeFunction('convertToInteractive',\n",
              "                                                     [key], {});\n",
              "          if (!dataTable) return;\n",
              "\n",
              "          const docLinkHtml = 'Like what you see? Visit the ' +\n",
              "            '<a target=\"_blank\" href=https://colab.research.google.com/notebooks/data_table.ipynb>data table notebook</a>'\n",
              "            + ' to learn more about interactive tables.';\n",
              "          element.innerHTML = '';\n",
              "          dataTable['output_type'] = 'display_data';\n",
              "          await google.colab.output.renderOutput(dataTable, element);\n",
              "          const docLink = document.createElement('div');\n",
              "          docLink.innerHTML = docLinkHtml;\n",
              "          element.appendChild(docLink);\n",
              "        }\n",
              "      </script>\n",
              "    </div>\n",
              "  </div>\n",
              "  "
            ]
          },
          "metadata": {},
          "execution_count": 3
        }
      ]
    },
    {
      "cell_type": "markdown",
      "source": [
        "need to get rid of the double indexes on the columns. This is used if importing from GDrive only."
      ],
      "metadata": {
        "id": "1FnO13eBVw7j"
      }
    },
    {
      "cell_type": "code",
      "source": [
        "#df.columns = df.iloc[0]\n",
        "#df = df.iloc[1:]"
      ],
      "metadata": {
        "id": "nt0XKbWbUOLz"
      },
      "execution_count": null,
      "outputs": []
    },
    {
      "cell_type": "code",
      "source": [
        "df.isnull().sum()"
      ],
      "metadata": {
        "colab": {
          "base_uri": "https://localhost:8080/"
        },
        "id": "M_S0Tq-M6ssa",
        "outputId": "33cdcf37-54ca-4d59-c9d4-d1147ecfc763"
      },
      "execution_count": 4,
      "outputs": [
        {
          "output_type": "execute_result",
          "data": {
            "text/plain": [
              "User             0\n",
              "Tweets           0\n",
              "Link to Tweet    0\n",
              "Date/Time        0\n",
              "dtype: int64"
            ]
          },
          "metadata": {},
          "execution_count": 4
        }
      ]
    },
    {
      "cell_type": "code",
      "source": [
        "df.info()"
      ],
      "metadata": {
        "colab": {
          "base_uri": "https://localhost:8080/"
        },
        "id": "vjyiYcIApb39",
        "outputId": "50cc0155-5938-4069-87c6-8f9ca54482d3"
      },
      "execution_count": 5,
      "outputs": [
        {
          "output_type": "stream",
          "name": "stdout",
          "text": [
            "<class 'pandas.core.frame.DataFrame'>\n",
            "RangeIndex: 5997 entries, 0 to 5996\n",
            "Data columns (total 4 columns):\n",
            " #   Column         Non-Null Count  Dtype \n",
            "---  ------         --------------  ----- \n",
            " 0   User           5997 non-null   object\n",
            " 1   Tweets         5997 non-null   object\n",
            " 2   Link to Tweet  5997 non-null   object\n",
            " 3   Date/Time      5997 non-null   object\n",
            "dtypes: object(4)\n",
            "memory usage: 187.5+ KB\n"
          ]
        }
      ]
    },
    {
      "cell_type": "code",
      "source": [
        "df.describe()"
      ],
      "metadata": {
        "colab": {
          "base_uri": "https://localhost:8080/",
          "height": 175
        },
        "id": "L6MZY_H62Sea",
        "outputId": "8995d0a1-96ef-46df-fe94-5bf70970b9cb"
      },
      "execution_count": null,
      "outputs": [
        {
          "output_type": "execute_result",
          "data": {
            "text/plain": [
              "                    User                     Tweets  \\\n",
              "count               5997                       5997   \n",
              "unique                 3                       5649   \n",
              "top     @realDonaldTrump  MAKE AMERICA GREAT AGAIN!   \n",
              "freq                1999                          5   \n",
              "\n",
              "                                            Link to Tweet  \\\n",
              "count                                                5997   \n",
              "unique                                               5997   \n",
              "top     http://twitter.com/realDonaldTrump/status/8416...   \n",
              "freq                                                    1   \n",
              "\n",
              "                          Date/Time  \n",
              "count                          5997  \n",
              "unique                         5085  \n",
              "top     January 30, 2018 at 10:14PM  \n",
              "freq                             10  "
            ],
            "text/html": [
              "\n",
              "  <div id=\"df-ecbca07f-40e5-4d2c-8b82-87f3533f2def\">\n",
              "    <div class=\"colab-df-container\">\n",
              "      <div>\n",
              "<style scoped>\n",
              "    .dataframe tbody tr th:only-of-type {\n",
              "        vertical-align: middle;\n",
              "    }\n",
              "\n",
              "    .dataframe tbody tr th {\n",
              "        vertical-align: top;\n",
              "    }\n",
              "\n",
              "    .dataframe thead th {\n",
              "        text-align: right;\n",
              "    }\n",
              "</style>\n",
              "<table border=\"1\" class=\"dataframe\">\n",
              "  <thead>\n",
              "    <tr style=\"text-align: right;\">\n",
              "      <th></th>\n",
              "      <th>User</th>\n",
              "      <th>Tweets</th>\n",
              "      <th>Link to Tweet</th>\n",
              "      <th>Date/Time</th>\n",
              "    </tr>\n",
              "  </thead>\n",
              "  <tbody>\n",
              "    <tr>\n",
              "      <th>count</th>\n",
              "      <td>5997</td>\n",
              "      <td>5997</td>\n",
              "      <td>5997</td>\n",
              "      <td>5997</td>\n",
              "    </tr>\n",
              "    <tr>\n",
              "      <th>unique</th>\n",
              "      <td>3</td>\n",
              "      <td>5649</td>\n",
              "      <td>5997</td>\n",
              "      <td>5085</td>\n",
              "    </tr>\n",
              "    <tr>\n",
              "      <th>top</th>\n",
              "      <td>@realDonaldTrump</td>\n",
              "      <td>MAKE AMERICA GREAT AGAIN!</td>\n",
              "      <td>http://twitter.com/realDonaldTrump/status/8416...</td>\n",
              "      <td>January 30, 2018 at 10:14PM</td>\n",
              "    </tr>\n",
              "    <tr>\n",
              "      <th>freq</th>\n",
              "      <td>1999</td>\n",
              "      <td>5</td>\n",
              "      <td>1</td>\n",
              "      <td>10</td>\n",
              "    </tr>\n",
              "  </tbody>\n",
              "</table>\n",
              "</div>\n",
              "      <button class=\"colab-df-convert\" onclick=\"convertToInteractive('df-ecbca07f-40e5-4d2c-8b82-87f3533f2def')\"\n",
              "              title=\"Convert this dataframe to an interactive table.\"\n",
              "              style=\"display:none;\">\n",
              "        \n",
              "  <svg xmlns=\"http://www.w3.org/2000/svg\" height=\"24px\"viewBox=\"0 0 24 24\"\n",
              "       width=\"24px\">\n",
              "    <path d=\"M0 0h24v24H0V0z\" fill=\"none\"/>\n",
              "    <path d=\"M18.56 5.44l.94 2.06.94-2.06 2.06-.94-2.06-.94-.94-2.06-.94 2.06-2.06.94zm-11 1L8.5 8.5l.94-2.06 2.06-.94-2.06-.94L8.5 2.5l-.94 2.06-2.06.94zm10 10l.94 2.06.94-2.06 2.06-.94-2.06-.94-.94-2.06-.94 2.06-2.06.94z\"/><path d=\"M17.41 7.96l-1.37-1.37c-.4-.4-.92-.59-1.43-.59-.52 0-1.04.2-1.43.59L10.3 9.45l-7.72 7.72c-.78.78-.78 2.05 0 2.83L4 21.41c.39.39.9.59 1.41.59.51 0 1.02-.2 1.41-.59l7.78-7.78 2.81-2.81c.8-.78.8-2.07 0-2.86zM5.41 20L4 18.59l7.72-7.72 1.47 1.35L5.41 20z\"/>\n",
              "  </svg>\n",
              "      </button>\n",
              "      \n",
              "  <style>\n",
              "    .colab-df-container {\n",
              "      display:flex;\n",
              "      flex-wrap:wrap;\n",
              "      gap: 12px;\n",
              "    }\n",
              "\n",
              "    .colab-df-convert {\n",
              "      background-color: #E8F0FE;\n",
              "      border: none;\n",
              "      border-radius: 50%;\n",
              "      cursor: pointer;\n",
              "      display: none;\n",
              "      fill: #1967D2;\n",
              "      height: 32px;\n",
              "      padding: 0 0 0 0;\n",
              "      width: 32px;\n",
              "    }\n",
              "\n",
              "    .colab-df-convert:hover {\n",
              "      background-color: #E2EBFA;\n",
              "      box-shadow: 0px 1px 2px rgba(60, 64, 67, 0.3), 0px 1px 3px 1px rgba(60, 64, 67, 0.15);\n",
              "      fill: #174EA6;\n",
              "    }\n",
              "\n",
              "    [theme=dark] .colab-df-convert {\n",
              "      background-color: #3B4455;\n",
              "      fill: #D2E3FC;\n",
              "    }\n",
              "\n",
              "    [theme=dark] .colab-df-convert:hover {\n",
              "      background-color: #434B5C;\n",
              "      box-shadow: 0px 1px 3px 1px rgba(0, 0, 0, 0.15);\n",
              "      filter: drop-shadow(0px 1px 2px rgba(0, 0, 0, 0.3));\n",
              "      fill: #FFFFFF;\n",
              "    }\n",
              "  </style>\n",
              "\n",
              "      <script>\n",
              "        const buttonEl =\n",
              "          document.querySelector('#df-ecbca07f-40e5-4d2c-8b82-87f3533f2def button.colab-df-convert');\n",
              "        buttonEl.style.display =\n",
              "          google.colab.kernel.accessAllowed ? 'block' : 'none';\n",
              "\n",
              "        async function convertToInteractive(key) {\n",
              "          const element = document.querySelector('#df-ecbca07f-40e5-4d2c-8b82-87f3533f2def');\n",
              "          const dataTable =\n",
              "            await google.colab.kernel.invokeFunction('convertToInteractive',\n",
              "                                                     [key], {});\n",
              "          if (!dataTable) return;\n",
              "\n",
              "          const docLinkHtml = 'Like what you see? Visit the ' +\n",
              "            '<a target=\"_blank\" href=https://colab.research.google.com/notebooks/data_table.ipynb>data table notebook</a>'\n",
              "            + ' to learn more about interactive tables.';\n",
              "          element.innerHTML = '';\n",
              "          dataTable['output_type'] = 'display_data';\n",
              "          await google.colab.output.renderOutput(dataTable, element);\n",
              "          const docLink = document.createElement('div');\n",
              "          docLink.innerHTML = docLinkHtml;\n",
              "          element.appendChild(docLink);\n",
              "        }\n",
              "      </script>\n",
              "    </div>\n",
              "  </div>\n",
              "  "
            ]
          },
          "metadata": {},
          "execution_count": 6
        }
      ]
    },
    {
      "cell_type": "code",
      "source": [
        "df.head()"
      ],
      "metadata": {
        "colab": {
          "base_uri": "https://localhost:8080/",
          "height": 206
        },
        "id": "T8tGWAPGUOIr",
        "outputId": "9c77fd27-f9ee-4b94-9d38-72c2ae66c329"
      },
      "execution_count": null,
      "outputs": [
        {
          "output_type": "execute_result",
          "data": {
            "text/plain": [
              "               User                                             Tweets  \\\n",
              "0  @realDonaldTrump          JOBS, JOBS, JOBS! https://t.co/wAkQMKdPXA   \n",
              "1  @realDonaldTrump  Great optimism in America – and the results wi...   \n",
              "2  @realDonaldTrump  Does anybody really believe that a reporter, w...   \n",
              "3  @realDonaldTrump  Can you imagine what the outcry would be if @S...   \n",
              "4  @realDonaldTrump  Will be going to Detroit, Michigan (love), tod...   \n",
              "\n",
              "                                       Link to Tweet  \\\n",
              "0  http://twitter.com/realDonaldTrump/status/8416...   \n",
              "1  http://twitter.com/realDonaldTrump/status/8416...   \n",
              "2  http://twitter.com/realDonaldTrump/status/8419...   \n",
              "3  http://twitter.com/realDonaldTrump/status/8419...   \n",
              "4  http://twitter.com/realDonaldTrump/status/8419...   \n",
              "\n",
              "                   Date/Time  \n",
              "0  March 14, 2017 at 11:00AM  \n",
              "1  March 14, 2017 at 12:12PM  \n",
              "2  March 15, 2017 at 06:55AM  \n",
              "3  March 15, 2017 at 07:02AM  \n",
              "4  March 15, 2017 at 07:13AM  "
            ],
            "text/html": [
              "\n",
              "  <div id=\"df-5dd7e545-053b-4dfb-b950-4f55af7d251d\">\n",
              "    <div class=\"colab-df-container\">\n",
              "      <div>\n",
              "<style scoped>\n",
              "    .dataframe tbody tr th:only-of-type {\n",
              "        vertical-align: middle;\n",
              "    }\n",
              "\n",
              "    .dataframe tbody tr th {\n",
              "        vertical-align: top;\n",
              "    }\n",
              "\n",
              "    .dataframe thead th {\n",
              "        text-align: right;\n",
              "    }\n",
              "</style>\n",
              "<table border=\"1\" class=\"dataframe\">\n",
              "  <thead>\n",
              "    <tr style=\"text-align: right;\">\n",
              "      <th></th>\n",
              "      <th>User</th>\n",
              "      <th>Tweets</th>\n",
              "      <th>Link to Tweet</th>\n",
              "      <th>Date/Time</th>\n",
              "    </tr>\n",
              "  </thead>\n",
              "  <tbody>\n",
              "    <tr>\n",
              "      <th>0</th>\n",
              "      <td>@realDonaldTrump</td>\n",
              "      <td>JOBS, JOBS, JOBS! https://t.co/wAkQMKdPXA</td>\n",
              "      <td>http://twitter.com/realDonaldTrump/status/8416...</td>\n",
              "      <td>March 14, 2017 at 11:00AM</td>\n",
              "    </tr>\n",
              "    <tr>\n",
              "      <th>1</th>\n",
              "      <td>@realDonaldTrump</td>\n",
              "      <td>Great optimism in America – and the results wi...</td>\n",
              "      <td>http://twitter.com/realDonaldTrump/status/8416...</td>\n",
              "      <td>March 14, 2017 at 12:12PM</td>\n",
              "    </tr>\n",
              "    <tr>\n",
              "      <th>2</th>\n",
              "      <td>@realDonaldTrump</td>\n",
              "      <td>Does anybody really believe that a reporter, w...</td>\n",
              "      <td>http://twitter.com/realDonaldTrump/status/8419...</td>\n",
              "      <td>March 15, 2017 at 06:55AM</td>\n",
              "    </tr>\n",
              "    <tr>\n",
              "      <th>3</th>\n",
              "      <td>@realDonaldTrump</td>\n",
              "      <td>Can you imagine what the outcry would be if @S...</td>\n",
              "      <td>http://twitter.com/realDonaldTrump/status/8419...</td>\n",
              "      <td>March 15, 2017 at 07:02AM</td>\n",
              "    </tr>\n",
              "    <tr>\n",
              "      <th>4</th>\n",
              "      <td>@realDonaldTrump</td>\n",
              "      <td>Will be going to Detroit, Michigan (love), tod...</td>\n",
              "      <td>http://twitter.com/realDonaldTrump/status/8419...</td>\n",
              "      <td>March 15, 2017 at 07:13AM</td>\n",
              "    </tr>\n",
              "  </tbody>\n",
              "</table>\n",
              "</div>\n",
              "      <button class=\"colab-df-convert\" onclick=\"convertToInteractive('df-5dd7e545-053b-4dfb-b950-4f55af7d251d')\"\n",
              "              title=\"Convert this dataframe to an interactive table.\"\n",
              "              style=\"display:none;\">\n",
              "        \n",
              "  <svg xmlns=\"http://www.w3.org/2000/svg\" height=\"24px\"viewBox=\"0 0 24 24\"\n",
              "       width=\"24px\">\n",
              "    <path d=\"M0 0h24v24H0V0z\" fill=\"none\"/>\n",
              "    <path d=\"M18.56 5.44l.94 2.06.94-2.06 2.06-.94-2.06-.94-.94-2.06-.94 2.06-2.06.94zm-11 1L8.5 8.5l.94-2.06 2.06-.94-2.06-.94L8.5 2.5l-.94 2.06-2.06.94zm10 10l.94 2.06.94-2.06 2.06-.94-2.06-.94-.94-2.06-.94 2.06-2.06.94z\"/><path d=\"M17.41 7.96l-1.37-1.37c-.4-.4-.92-.59-1.43-.59-.52 0-1.04.2-1.43.59L10.3 9.45l-7.72 7.72c-.78.78-.78 2.05 0 2.83L4 21.41c.39.39.9.59 1.41.59.51 0 1.02-.2 1.41-.59l7.78-7.78 2.81-2.81c.8-.78.8-2.07 0-2.86zM5.41 20L4 18.59l7.72-7.72 1.47 1.35L5.41 20z\"/>\n",
              "  </svg>\n",
              "      </button>\n",
              "      \n",
              "  <style>\n",
              "    .colab-df-container {\n",
              "      display:flex;\n",
              "      flex-wrap:wrap;\n",
              "      gap: 12px;\n",
              "    }\n",
              "\n",
              "    .colab-df-convert {\n",
              "      background-color: #E8F0FE;\n",
              "      border: none;\n",
              "      border-radius: 50%;\n",
              "      cursor: pointer;\n",
              "      display: none;\n",
              "      fill: #1967D2;\n",
              "      height: 32px;\n",
              "      padding: 0 0 0 0;\n",
              "      width: 32px;\n",
              "    }\n",
              "\n",
              "    .colab-df-convert:hover {\n",
              "      background-color: #E2EBFA;\n",
              "      box-shadow: 0px 1px 2px rgba(60, 64, 67, 0.3), 0px 1px 3px 1px rgba(60, 64, 67, 0.15);\n",
              "      fill: #174EA6;\n",
              "    }\n",
              "\n",
              "    [theme=dark] .colab-df-convert {\n",
              "      background-color: #3B4455;\n",
              "      fill: #D2E3FC;\n",
              "    }\n",
              "\n",
              "    [theme=dark] .colab-df-convert:hover {\n",
              "      background-color: #434B5C;\n",
              "      box-shadow: 0px 1px 3px 1px rgba(0, 0, 0, 0.15);\n",
              "      filter: drop-shadow(0px 1px 2px rgba(0, 0, 0, 0.3));\n",
              "      fill: #FFFFFF;\n",
              "    }\n",
              "  </style>\n",
              "\n",
              "      <script>\n",
              "        const buttonEl =\n",
              "          document.querySelector('#df-5dd7e545-053b-4dfb-b950-4f55af7d251d button.colab-df-convert');\n",
              "        buttonEl.style.display =\n",
              "          google.colab.kernel.accessAllowed ? 'block' : 'none';\n",
              "\n",
              "        async function convertToInteractive(key) {\n",
              "          const element = document.querySelector('#df-5dd7e545-053b-4dfb-b950-4f55af7d251d');\n",
              "          const dataTable =\n",
              "            await google.colab.kernel.invokeFunction('convertToInteractive',\n",
              "                                                     [key], {});\n",
              "          if (!dataTable) return;\n",
              "\n",
              "          const docLinkHtml = 'Like what you see? Visit the ' +\n",
              "            '<a target=\"_blank\" href=https://colab.research.google.com/notebooks/data_table.ipynb>data table notebook</a>'\n",
              "            + ' to learn more about interactive tables.';\n",
              "          element.innerHTML = '';\n",
              "          dataTable['output_type'] = 'display_data';\n",
              "          await google.colab.output.renderOutput(dataTable, element);\n",
              "          const docLink = document.createElement('div');\n",
              "          docLink.innerHTML = docLinkHtml;\n",
              "          element.appendChild(docLink);\n",
              "        }\n",
              "      </script>\n",
              "    </div>\n",
              "  </div>\n",
              "  "
            ]
          },
          "metadata": {},
          "execution_count": 57
        }
      ]
    },
    {
      "cell_type": "code",
      "source": [
        "df.tail()"
      ],
      "metadata": {
        "colab": {
          "base_uri": "https://localhost:8080/",
          "height": 206
        },
        "id": "leEYW5Wzpamt",
        "outputId": "9eacfe01-be5f-40e9-b729-5eb81d0c08b5"
      },
      "execution_count": null,
      "outputs": [
        {
          "output_type": "execute_result",
          "data": {
            "text/plain": [
              "           User                                             Tweets  \\\n",
              "5992  @PressSec  RT @realDonaldTrump: Incredibly beautiful cere...   \n",
              "5993  @PressSec  RT @SecPompeo: I had the chance to speak with ...   \n",
              "5994  @PressSec  Happy Birthday @uscoastguard thanks for all yo...   \n",
              "5995  @PressSec  President Trump and this administration are no...   \n",
              "5996  @PressSec  Great news to start your weekend...the Senate ...   \n",
              "\n",
              "                                          Link to Tweet  \\\n",
              "5992  http://twitter.com/PressSec/status/10248609056...   \n",
              "5993  http://twitter.com/PressSec/status/10257222364...   \n",
              "5994  http://twitter.com/PressSec/status/10257784390...   \n",
              "5995  http://twitter.com/PressSec/status/10268753154...   \n",
              "5996  http://twitter.com/PressSec/status/10280532695...   \n",
              "\n",
              "                       Date/Time  \n",
              "5992  August 01, 2018 at 11:34PM  \n",
              "5993  August 04, 2018 at 08:36AM  \n",
              "5994  August 04, 2018 at 12:20PM  \n",
              "5995  August 07, 2018 at 12:58PM  \n",
              "5996  August 10, 2018 at 06:59PM  "
            ],
            "text/html": [
              "\n",
              "  <div id=\"df-189726ab-50de-4815-80ab-b67a1e1f3fd4\">\n",
              "    <div class=\"colab-df-container\">\n",
              "      <div>\n",
              "<style scoped>\n",
              "    .dataframe tbody tr th:only-of-type {\n",
              "        vertical-align: middle;\n",
              "    }\n",
              "\n",
              "    .dataframe tbody tr th {\n",
              "        vertical-align: top;\n",
              "    }\n",
              "\n",
              "    .dataframe thead th {\n",
              "        text-align: right;\n",
              "    }\n",
              "</style>\n",
              "<table border=\"1\" class=\"dataframe\">\n",
              "  <thead>\n",
              "    <tr style=\"text-align: right;\">\n",
              "      <th></th>\n",
              "      <th>User</th>\n",
              "      <th>Tweets</th>\n",
              "      <th>Link to Tweet</th>\n",
              "      <th>Date/Time</th>\n",
              "    </tr>\n",
              "  </thead>\n",
              "  <tbody>\n",
              "    <tr>\n",
              "      <th>5992</th>\n",
              "      <td>@PressSec</td>\n",
              "      <td>RT @realDonaldTrump: Incredibly beautiful cere...</td>\n",
              "      <td>http://twitter.com/PressSec/status/10248609056...</td>\n",
              "      <td>August 01, 2018 at 11:34PM</td>\n",
              "    </tr>\n",
              "    <tr>\n",
              "      <th>5993</th>\n",
              "      <td>@PressSec</td>\n",
              "      <td>RT @SecPompeo: I had the chance to speak with ...</td>\n",
              "      <td>http://twitter.com/PressSec/status/10257222364...</td>\n",
              "      <td>August 04, 2018 at 08:36AM</td>\n",
              "    </tr>\n",
              "    <tr>\n",
              "      <th>5994</th>\n",
              "      <td>@PressSec</td>\n",
              "      <td>Happy Birthday @uscoastguard thanks for all yo...</td>\n",
              "      <td>http://twitter.com/PressSec/status/10257784390...</td>\n",
              "      <td>August 04, 2018 at 12:20PM</td>\n",
              "    </tr>\n",
              "    <tr>\n",
              "      <th>5995</th>\n",
              "      <td>@PressSec</td>\n",
              "      <td>President Trump and this administration are no...</td>\n",
              "      <td>http://twitter.com/PressSec/status/10268753154...</td>\n",
              "      <td>August 07, 2018 at 12:58PM</td>\n",
              "    </tr>\n",
              "    <tr>\n",
              "      <th>5996</th>\n",
              "      <td>@PressSec</td>\n",
              "      <td>Great news to start your weekend...the Senate ...</td>\n",
              "      <td>http://twitter.com/PressSec/status/10280532695...</td>\n",
              "      <td>August 10, 2018 at 06:59PM</td>\n",
              "    </tr>\n",
              "  </tbody>\n",
              "</table>\n",
              "</div>\n",
              "      <button class=\"colab-df-convert\" onclick=\"convertToInteractive('df-189726ab-50de-4815-80ab-b67a1e1f3fd4')\"\n",
              "              title=\"Convert this dataframe to an interactive table.\"\n",
              "              style=\"display:none;\">\n",
              "        \n",
              "  <svg xmlns=\"http://www.w3.org/2000/svg\" height=\"24px\"viewBox=\"0 0 24 24\"\n",
              "       width=\"24px\">\n",
              "    <path d=\"M0 0h24v24H0V0z\" fill=\"none\"/>\n",
              "    <path d=\"M18.56 5.44l.94 2.06.94-2.06 2.06-.94-2.06-.94-.94-2.06-.94 2.06-2.06.94zm-11 1L8.5 8.5l.94-2.06 2.06-.94-2.06-.94L8.5 2.5l-.94 2.06-2.06.94zm10 10l.94 2.06.94-2.06 2.06-.94-2.06-.94-.94-2.06-.94 2.06-2.06.94z\"/><path d=\"M17.41 7.96l-1.37-1.37c-.4-.4-.92-.59-1.43-.59-.52 0-1.04.2-1.43.59L10.3 9.45l-7.72 7.72c-.78.78-.78 2.05 0 2.83L4 21.41c.39.39.9.59 1.41.59.51 0 1.02-.2 1.41-.59l7.78-7.78 2.81-2.81c.8-.78.8-2.07 0-2.86zM5.41 20L4 18.59l7.72-7.72 1.47 1.35L5.41 20z\"/>\n",
              "  </svg>\n",
              "      </button>\n",
              "      \n",
              "  <style>\n",
              "    .colab-df-container {\n",
              "      display:flex;\n",
              "      flex-wrap:wrap;\n",
              "      gap: 12px;\n",
              "    }\n",
              "\n",
              "    .colab-df-convert {\n",
              "      background-color: #E8F0FE;\n",
              "      border: none;\n",
              "      border-radius: 50%;\n",
              "      cursor: pointer;\n",
              "      display: none;\n",
              "      fill: #1967D2;\n",
              "      height: 32px;\n",
              "      padding: 0 0 0 0;\n",
              "      width: 32px;\n",
              "    }\n",
              "\n",
              "    .colab-df-convert:hover {\n",
              "      background-color: #E2EBFA;\n",
              "      box-shadow: 0px 1px 2px rgba(60, 64, 67, 0.3), 0px 1px 3px 1px rgba(60, 64, 67, 0.15);\n",
              "      fill: #174EA6;\n",
              "    }\n",
              "\n",
              "    [theme=dark] .colab-df-convert {\n",
              "      background-color: #3B4455;\n",
              "      fill: #D2E3FC;\n",
              "    }\n",
              "\n",
              "    [theme=dark] .colab-df-convert:hover {\n",
              "      background-color: #434B5C;\n",
              "      box-shadow: 0px 1px 3px 1px rgba(0, 0, 0, 0.15);\n",
              "      filter: drop-shadow(0px 1px 2px rgba(0, 0, 0, 0.3));\n",
              "      fill: #FFFFFF;\n",
              "    }\n",
              "  </style>\n",
              "\n",
              "      <script>\n",
              "        const buttonEl =\n",
              "          document.querySelector('#df-189726ab-50de-4815-80ab-b67a1e1f3fd4 button.colab-df-convert');\n",
              "        buttonEl.style.display =\n",
              "          google.colab.kernel.accessAllowed ? 'block' : 'none';\n",
              "\n",
              "        async function convertToInteractive(key) {\n",
              "          const element = document.querySelector('#df-189726ab-50de-4815-80ab-b67a1e1f3fd4');\n",
              "          const dataTable =\n",
              "            await google.colab.kernel.invokeFunction('convertToInteractive',\n",
              "                                                     [key], {});\n",
              "          if (!dataTable) return;\n",
              "\n",
              "          const docLinkHtml = 'Like what you see? Visit the ' +\n",
              "            '<a target=\"_blank\" href=https://colab.research.google.com/notebooks/data_table.ipynb>data table notebook</a>'\n",
              "            + ' to learn more about interactive tables.';\n",
              "          element.innerHTML = '';\n",
              "          dataTable['output_type'] = 'display_data';\n",
              "          await google.colab.output.renderOutput(dataTable, element);\n",
              "          const docLink = document.createElement('div');\n",
              "          docLink.innerHTML = docLinkHtml;\n",
              "          element.appendChild(docLink);\n",
              "        }\n",
              "      </script>\n",
              "    </div>\n",
              "  </div>\n",
              "  "
            ]
          },
          "metadata": {},
          "execution_count": 6
        }
      ]
    },
    {
      "cell_type": "code",
      "source": [
        "sns.__version__"
      ],
      "metadata": {
        "id": "07G2YTYdUOAD",
        "colab": {
          "base_uri": "https://localhost:8080/",
          "height": 35
        },
        "outputId": "6e207a11-9e5a-453e-f48e-6e9fa435a6e2"
      },
      "execution_count": null,
      "outputs": [
        {
          "output_type": "execute_result",
          "data": {
            "text/plain": [
              "'0.11.2'"
            ],
            "application/vnd.google.colaboratory.intrinsic+json": {
              "type": "string"
            }
          },
          "metadata": {},
          "execution_count": 12
        }
      ]
    },
    {
      "cell_type": "code",
      "source": [
        "df['User'].value_counts()"
      ],
      "metadata": {
        "id": "ETYT0rNwUN9c",
        "colab": {
          "base_uri": "https://localhost:8080/"
        },
        "outputId": "651586a2-d14c-40f4-c3c4-859ad1e9e1cb"
      },
      "execution_count": 6,
      "outputs": [
        {
          "output_type": "execute_result",
          "data": {
            "text/plain": [
              "@realDonaldTrump    1999\n",
              "@POTUS              1999\n",
              "@PressSec           1999\n",
              "Name: User, dtype: int64"
            ]
          },
          "metadata": {},
          "execution_count": 6
        }
      ]
    },
    {
      "cell_type": "code",
      "source": [
        "df['Date/Time'].value_counts()"
      ],
      "metadata": {
        "id": "HqXaHZv8UN5q",
        "colab": {
          "base_uri": "https://localhost:8080/"
        },
        "outputId": "d0d4939b-1b11-421a-cde6-6170b8dea84e"
      },
      "execution_count": 7,
      "outputs": [
        {
          "output_type": "execute_result",
          "data": {
            "text/plain": [
              "January 30, 2018 at 10:14PM      10\n",
              "January 31, 2018 at 07:48AM       7\n",
              "September 30, 2017 at 06:15PM     7\n",
              "January 19, 2018 at 02:59PM       7\n",
              "November 28, 2017 at 04:57PM      7\n",
              "                                 ..\n",
              "November 03, 2017 at 10:45AM      1\n",
              "November 03, 2017 at 10:29AM      1\n",
              "November 03, 2017 at 10:28AM      1\n",
              "November 03, 2017 at 08:11AM      1\n",
              "August 10, 2018 at 06:59PM        1\n",
              "Name: Date/Time, Length: 5085, dtype: int64"
            ]
          },
          "metadata": {},
          "execution_count": 7
        }
      ]
    },
    {
      "cell_type": "code",
      "source": [],
      "metadata": {
        "id": "7LADQP4mUN2v"
      },
      "execution_count": null,
      "outputs": []
    },
    {
      "cell_type": "code",
      "source": [
        "#test sid analyzer c & d are actual drumpf tweets\n",
        "\n",
        "a= \"This is a good movie.\"\n",
        "b= \"This movie is awful!\"\n",
        "c = 'North Korea is behaving very badly. They have been \"playing\" the United States for years. China has done little to help!'\n",
        "d= 'James Clapper and others stated that there is no evidence Potus colluded with Russia. This story is FAKE NEWS and everyone knows it!'\n",
        "e='You are a horrible human being!!'\n",
        "sid.polarity_scores(a)"
      ],
      "metadata": {
        "id": "Pqz4gpE6UNz5",
        "colab": {
          "base_uri": "https://localhost:8080/"
        },
        "outputId": "de73e7ca-321c-46bf-a7a4-c7d193ddbaa4"
      },
      "execution_count": 8,
      "outputs": [
        {
          "output_type": "execute_result",
          "data": {
            "text/plain": [
              "{'neg': 0.0, 'neu': 0.508, 'pos': 0.492, 'compound': 0.4404}"
            ]
          },
          "metadata": {},
          "execution_count": 8
        }
      ]
    },
    {
      "cell_type": "code",
      "source": [
        "sid.polarity_scores(b)"
      ],
      "metadata": {
        "id": "SCOhCRZ9UNwv",
        "colab": {
          "base_uri": "https://localhost:8080/"
        },
        "outputId": "47b6c137-4a2e-4289-ad6c-0e33bf098cbf"
      },
      "execution_count": 9,
      "outputs": [
        {
          "output_type": "execute_result",
          "data": {
            "text/plain": [
              "{'neg': 0.523, 'neu': 0.477, 'pos': 0.0, 'compound': -0.5093}"
            ]
          },
          "metadata": {},
          "execution_count": 9
        }
      ]
    },
    {
      "cell_type": "code",
      "source": [
        "sid.polarity_scores(c)"
      ],
      "metadata": {
        "colab": {
          "base_uri": "https://localhost:8080/"
        },
        "id": "f51bA59PtI-x",
        "outputId": "4ee557d1-ed34-4d9e-f6ff-fbda98daa384"
      },
      "execution_count": 10,
      "outputs": [
        {
          "output_type": "execute_result",
          "data": {
            "text/plain": [
              "{'neg': 0.126, 'neu': 0.669, 'pos': 0.205, 'compound': 0.2779}"
            ]
          },
          "metadata": {},
          "execution_count": 10
        }
      ]
    },
    {
      "cell_type": "code",
      "source": [
        "sid.polarity_scores(d)"
      ],
      "metadata": {
        "colab": {
          "base_uri": "https://localhost:8080/"
        },
        "id": "KEAFupMStI8d",
        "outputId": "eb3b656c-b1c2-405a-de5c-8fcbc995e55f"
      },
      "execution_count": 11,
      "outputs": [
        {
          "output_type": "execute_result",
          "data": {
            "text/plain": [
              "{'neg': 0.231, 'neu': 0.769, 'pos': 0.0, 'compound': -0.745}"
            ]
          },
          "metadata": {},
          "execution_count": 11
        }
      ]
    },
    {
      "cell_type": "code",
      "source": [
        "sid.polarity_scores(e)"
      ],
      "metadata": {
        "colab": {
          "base_uri": "https://localhost:8080/"
        },
        "id": "RphHgS0kQ9dc",
        "outputId": "7e9f767e-6bf5-4bb8-8cea-d9b3ce8079da"
      },
      "execution_count": 12,
      "outputs": [
        {
          "output_type": "execute_result",
          "data": {
            "text/plain": [
              "{'neg': 0.505, 'neu': 0.495, 'pos': 0.0, 'compound': -0.6229}"
            ]
          },
          "metadata": {},
          "execution_count": 12
        }
      ]
    },
    {
      "cell_type": "markdown",
      "source": [
        "the scores range from:\n",
        "\n",
        "- most extreme negative, -1\n",
        "\n",
        "- most extreme positive, 1\n",
        "\n",
        "- neutral, 0\n",
        "\n",
        "See the readme: \n",
        "https://github.com/cjhutto/vaderSentiment\n"
      ],
      "metadata": {
        "id": "yxFjiUTtwURc"
      }
    },
    {
      "cell_type": "code",
      "source": [
        "#create a col called scores to analyze tweets with scores as a dictionary (as noted above)\n",
        "df['scores'] = df['Tweets'].apply(lambda Tweets: sid.polarity_scores(Tweets))\n",
        "\n",
        "df.head()"
      ],
      "metadata": {
        "colab": {
          "base_uri": "https://localhost:8080/",
          "height": 337
        },
        "id": "7vDCa4F-tI1f",
        "outputId": "6a1b382a-8d27-416d-9ca9-29cadbc0dbd9"
      },
      "execution_count": 13,
      "outputs": [
        {
          "output_type": "execute_result",
          "data": {
            "text/plain": [
              "               User                                             Tweets  \\\n",
              "0  @realDonaldTrump          JOBS, JOBS, JOBS! https://t.co/wAkQMKdPXA   \n",
              "1  @realDonaldTrump  Great optimism in America – and the results wi...   \n",
              "2  @realDonaldTrump  Does anybody really believe that a reporter, w...   \n",
              "3  @realDonaldTrump  Can you imagine what the outcry would be if @S...   \n",
              "4  @realDonaldTrump  Will be going to Detroit, Michigan (love), tod...   \n",
              "\n",
              "                                       Link to Tweet  \\\n",
              "0  http://twitter.com/realDonaldTrump/status/8416...   \n",
              "1  http://twitter.com/realDonaldTrump/status/8416...   \n",
              "2  http://twitter.com/realDonaldTrump/status/8419...   \n",
              "3  http://twitter.com/realDonaldTrump/status/8419...   \n",
              "4  http://twitter.com/realDonaldTrump/status/8419...   \n",
              "\n",
              "                   Date/Time  \\\n",
              "0  March 14, 2017 at 11:00AM   \n",
              "1  March 14, 2017 at 12:12PM   \n",
              "2  March 15, 2017 at 06:55AM   \n",
              "3  March 15, 2017 at 07:02AM   \n",
              "4  March 15, 2017 at 07:13AM   \n",
              "\n",
              "                                              scores  \n",
              "0  {'neg': 0.0, 'neu': 1.0, 'pos': 0.0, 'compound...  \n",
              "1  {'neg': 0.0, 'neu': 0.455, 'pos': 0.545, 'comp...  \n",
              "2  {'neg': 0.158, 'neu': 0.842, 'pos': 0.0, 'comp...  \n",
              "3  {'neg': 0.38, 'neu': 0.62, 'pos': 0.0, 'compou...  \n",
              "4  {'neg': 0.0, 'neu': 1.0, 'pos': 0.0, 'compound...  "
            ],
            "text/html": [
              "\n",
              "  <div id=\"df-b97b0e50-97d4-43b6-a58c-7410b192a799\">\n",
              "    <div class=\"colab-df-container\">\n",
              "      <div>\n",
              "<style scoped>\n",
              "    .dataframe tbody tr th:only-of-type {\n",
              "        vertical-align: middle;\n",
              "    }\n",
              "\n",
              "    .dataframe tbody tr th {\n",
              "        vertical-align: top;\n",
              "    }\n",
              "\n",
              "    .dataframe thead th {\n",
              "        text-align: right;\n",
              "    }\n",
              "</style>\n",
              "<table border=\"1\" class=\"dataframe\">\n",
              "  <thead>\n",
              "    <tr style=\"text-align: right;\">\n",
              "      <th></th>\n",
              "      <th>User</th>\n",
              "      <th>Tweets</th>\n",
              "      <th>Link to Tweet</th>\n",
              "      <th>Date/Time</th>\n",
              "      <th>scores</th>\n",
              "    </tr>\n",
              "  </thead>\n",
              "  <tbody>\n",
              "    <tr>\n",
              "      <th>0</th>\n",
              "      <td>@realDonaldTrump</td>\n",
              "      <td>JOBS, JOBS, JOBS! https://t.co/wAkQMKdPXA</td>\n",
              "      <td>http://twitter.com/realDonaldTrump/status/8416...</td>\n",
              "      <td>March 14, 2017 at 11:00AM</td>\n",
              "      <td>{'neg': 0.0, 'neu': 1.0, 'pos': 0.0, 'compound...</td>\n",
              "    </tr>\n",
              "    <tr>\n",
              "      <th>1</th>\n",
              "      <td>@realDonaldTrump</td>\n",
              "      <td>Great optimism in America – and the results wi...</td>\n",
              "      <td>http://twitter.com/realDonaldTrump/status/8416...</td>\n",
              "      <td>March 14, 2017 at 12:12PM</td>\n",
              "      <td>{'neg': 0.0, 'neu': 0.455, 'pos': 0.545, 'comp...</td>\n",
              "    </tr>\n",
              "    <tr>\n",
              "      <th>2</th>\n",
              "      <td>@realDonaldTrump</td>\n",
              "      <td>Does anybody really believe that a reporter, w...</td>\n",
              "      <td>http://twitter.com/realDonaldTrump/status/8419...</td>\n",
              "      <td>March 15, 2017 at 06:55AM</td>\n",
              "      <td>{'neg': 0.158, 'neu': 0.842, 'pos': 0.0, 'comp...</td>\n",
              "    </tr>\n",
              "    <tr>\n",
              "      <th>3</th>\n",
              "      <td>@realDonaldTrump</td>\n",
              "      <td>Can you imagine what the outcry would be if @S...</td>\n",
              "      <td>http://twitter.com/realDonaldTrump/status/8419...</td>\n",
              "      <td>March 15, 2017 at 07:02AM</td>\n",
              "      <td>{'neg': 0.38, 'neu': 0.62, 'pos': 0.0, 'compou...</td>\n",
              "    </tr>\n",
              "    <tr>\n",
              "      <th>4</th>\n",
              "      <td>@realDonaldTrump</td>\n",
              "      <td>Will be going to Detroit, Michigan (love), tod...</td>\n",
              "      <td>http://twitter.com/realDonaldTrump/status/8419...</td>\n",
              "      <td>March 15, 2017 at 07:13AM</td>\n",
              "      <td>{'neg': 0.0, 'neu': 1.0, 'pos': 0.0, 'compound...</td>\n",
              "    </tr>\n",
              "  </tbody>\n",
              "</table>\n",
              "</div>\n",
              "      <button class=\"colab-df-convert\" onclick=\"convertToInteractive('df-b97b0e50-97d4-43b6-a58c-7410b192a799')\"\n",
              "              title=\"Convert this dataframe to an interactive table.\"\n",
              "              style=\"display:none;\">\n",
              "        \n",
              "  <svg xmlns=\"http://www.w3.org/2000/svg\" height=\"24px\"viewBox=\"0 0 24 24\"\n",
              "       width=\"24px\">\n",
              "    <path d=\"M0 0h24v24H0V0z\" fill=\"none\"/>\n",
              "    <path d=\"M18.56 5.44l.94 2.06.94-2.06 2.06-.94-2.06-.94-.94-2.06-.94 2.06-2.06.94zm-11 1L8.5 8.5l.94-2.06 2.06-.94-2.06-.94L8.5 2.5l-.94 2.06-2.06.94zm10 10l.94 2.06.94-2.06 2.06-.94-2.06-.94-.94-2.06-.94 2.06-2.06.94z\"/><path d=\"M17.41 7.96l-1.37-1.37c-.4-.4-.92-.59-1.43-.59-.52 0-1.04.2-1.43.59L10.3 9.45l-7.72 7.72c-.78.78-.78 2.05 0 2.83L4 21.41c.39.39.9.59 1.41.59.51 0 1.02-.2 1.41-.59l7.78-7.78 2.81-2.81c.8-.78.8-2.07 0-2.86zM5.41 20L4 18.59l7.72-7.72 1.47 1.35L5.41 20z\"/>\n",
              "  </svg>\n",
              "      </button>\n",
              "      \n",
              "  <style>\n",
              "    .colab-df-container {\n",
              "      display:flex;\n",
              "      flex-wrap:wrap;\n",
              "      gap: 12px;\n",
              "    }\n",
              "\n",
              "    .colab-df-convert {\n",
              "      background-color: #E8F0FE;\n",
              "      border: none;\n",
              "      border-radius: 50%;\n",
              "      cursor: pointer;\n",
              "      display: none;\n",
              "      fill: #1967D2;\n",
              "      height: 32px;\n",
              "      padding: 0 0 0 0;\n",
              "      width: 32px;\n",
              "    }\n",
              "\n",
              "    .colab-df-convert:hover {\n",
              "      background-color: #E2EBFA;\n",
              "      box-shadow: 0px 1px 2px rgba(60, 64, 67, 0.3), 0px 1px 3px 1px rgba(60, 64, 67, 0.15);\n",
              "      fill: #174EA6;\n",
              "    }\n",
              "\n",
              "    [theme=dark] .colab-df-convert {\n",
              "      background-color: #3B4455;\n",
              "      fill: #D2E3FC;\n",
              "    }\n",
              "\n",
              "    [theme=dark] .colab-df-convert:hover {\n",
              "      background-color: #434B5C;\n",
              "      box-shadow: 0px 1px 3px 1px rgba(0, 0, 0, 0.15);\n",
              "      filter: drop-shadow(0px 1px 2px rgba(0, 0, 0, 0.3));\n",
              "      fill: #FFFFFF;\n",
              "    }\n",
              "  </style>\n",
              "\n",
              "      <script>\n",
              "        const buttonEl =\n",
              "          document.querySelector('#df-b97b0e50-97d4-43b6-a58c-7410b192a799 button.colab-df-convert');\n",
              "        buttonEl.style.display =\n",
              "          google.colab.kernel.accessAllowed ? 'block' : 'none';\n",
              "\n",
              "        async function convertToInteractive(key) {\n",
              "          const element = document.querySelector('#df-b97b0e50-97d4-43b6-a58c-7410b192a799');\n",
              "          const dataTable =\n",
              "            await google.colab.kernel.invokeFunction('convertToInteractive',\n",
              "                                                     [key], {});\n",
              "          if (!dataTable) return;\n",
              "\n",
              "          const docLinkHtml = 'Like what you see? Visit the ' +\n",
              "            '<a target=\"_blank\" href=https://colab.research.google.com/notebooks/data_table.ipynb>data table notebook</a>'\n",
              "            + ' to learn more about interactive tables.';\n",
              "          element.innerHTML = '';\n",
              "          dataTable['output_type'] = 'display_data';\n",
              "          await google.colab.output.renderOutput(dataTable, element);\n",
              "          const docLink = document.createElement('div');\n",
              "          docLink.innerHTML = docLinkHtml;\n",
              "          element.appendChild(docLink);\n",
              "        }\n",
              "      </script>\n",
              "    </div>\n",
              "  </div>\n",
              "  "
            ]
          },
          "metadata": {},
          "execution_count": 13
        }
      ]
    },
    {
      "cell_type": "markdown",
      "source": [
        "Create a column that will compoud the scores into positive or negative from the scores dictionary.\n",
        "\n",
        "*Note: You can view the whole tweet if you use the \"magic wand\" icon which converts the table into an interactive table. *"
      ],
      "metadata": {
        "id": "8xnHIrKb3Fab"
      }
    },
    {
      "cell_type": "code",
      "source": [
        "#Let's separate out compound score into it's own column.\n",
        "\n",
        "df['compound']  = df['scores'].apply(lambda score_dict: score_dict['compound'])\n",
        "\n",
        "df.head()"
      ],
      "metadata": {
        "colab": {
          "base_uri": "https://localhost:8080/",
          "height": 337
        },
        "id": "44Gu9bUMtIyj",
        "outputId": "c1e59c6a-567c-4fe5-d344-2a81c92af99e"
      },
      "execution_count": 14,
      "outputs": [
        {
          "output_type": "execute_result",
          "data": {
            "text/plain": [
              "               User                                             Tweets  \\\n",
              "0  @realDonaldTrump          JOBS, JOBS, JOBS! https://t.co/wAkQMKdPXA   \n",
              "1  @realDonaldTrump  Great optimism in America – and the results wi...   \n",
              "2  @realDonaldTrump  Does anybody really believe that a reporter, w...   \n",
              "3  @realDonaldTrump  Can you imagine what the outcry would be if @S...   \n",
              "4  @realDonaldTrump  Will be going to Detroit, Michigan (love), tod...   \n",
              "\n",
              "                                       Link to Tweet  \\\n",
              "0  http://twitter.com/realDonaldTrump/status/8416...   \n",
              "1  http://twitter.com/realDonaldTrump/status/8416...   \n",
              "2  http://twitter.com/realDonaldTrump/status/8419...   \n",
              "3  http://twitter.com/realDonaldTrump/status/8419...   \n",
              "4  http://twitter.com/realDonaldTrump/status/8419...   \n",
              "\n",
              "                   Date/Time  \\\n",
              "0  March 14, 2017 at 11:00AM   \n",
              "1  March 14, 2017 at 12:12PM   \n",
              "2  March 15, 2017 at 06:55AM   \n",
              "3  March 15, 2017 at 07:02AM   \n",
              "4  March 15, 2017 at 07:13AM   \n",
              "\n",
              "                                              scores  compound  \n",
              "0  {'neg': 0.0, 'neu': 1.0, 'pos': 0.0, 'compound...    0.0000  \n",
              "1  {'neg': 0.0, 'neu': 0.455, 'pos': 0.545, 'comp...    0.8955  \n",
              "2  {'neg': 0.158, 'neu': 0.842, 'pos': 0.0, 'comp...   -0.6280  \n",
              "3  {'neg': 0.38, 'neu': 0.62, 'pos': 0.0, 'compou...   -0.9168  \n",
              "4  {'neg': 0.0, 'neu': 1.0, 'pos': 0.0, 'compound...    0.0000  "
            ],
            "text/html": [
              "\n",
              "  <div id=\"df-a8e79a78-e07b-42d7-8ebb-50a4c9d12601\">\n",
              "    <div class=\"colab-df-container\">\n",
              "      <div>\n",
              "<style scoped>\n",
              "    .dataframe tbody tr th:only-of-type {\n",
              "        vertical-align: middle;\n",
              "    }\n",
              "\n",
              "    .dataframe tbody tr th {\n",
              "        vertical-align: top;\n",
              "    }\n",
              "\n",
              "    .dataframe thead th {\n",
              "        text-align: right;\n",
              "    }\n",
              "</style>\n",
              "<table border=\"1\" class=\"dataframe\">\n",
              "  <thead>\n",
              "    <tr style=\"text-align: right;\">\n",
              "      <th></th>\n",
              "      <th>User</th>\n",
              "      <th>Tweets</th>\n",
              "      <th>Link to Tweet</th>\n",
              "      <th>Date/Time</th>\n",
              "      <th>scores</th>\n",
              "      <th>compound</th>\n",
              "    </tr>\n",
              "  </thead>\n",
              "  <tbody>\n",
              "    <tr>\n",
              "      <th>0</th>\n",
              "      <td>@realDonaldTrump</td>\n",
              "      <td>JOBS, JOBS, JOBS! https://t.co/wAkQMKdPXA</td>\n",
              "      <td>http://twitter.com/realDonaldTrump/status/8416...</td>\n",
              "      <td>March 14, 2017 at 11:00AM</td>\n",
              "      <td>{'neg': 0.0, 'neu': 1.0, 'pos': 0.0, 'compound...</td>\n",
              "      <td>0.0000</td>\n",
              "    </tr>\n",
              "    <tr>\n",
              "      <th>1</th>\n",
              "      <td>@realDonaldTrump</td>\n",
              "      <td>Great optimism in America – and the results wi...</td>\n",
              "      <td>http://twitter.com/realDonaldTrump/status/8416...</td>\n",
              "      <td>March 14, 2017 at 12:12PM</td>\n",
              "      <td>{'neg': 0.0, 'neu': 0.455, 'pos': 0.545, 'comp...</td>\n",
              "      <td>0.8955</td>\n",
              "    </tr>\n",
              "    <tr>\n",
              "      <th>2</th>\n",
              "      <td>@realDonaldTrump</td>\n",
              "      <td>Does anybody really believe that a reporter, w...</td>\n",
              "      <td>http://twitter.com/realDonaldTrump/status/8419...</td>\n",
              "      <td>March 15, 2017 at 06:55AM</td>\n",
              "      <td>{'neg': 0.158, 'neu': 0.842, 'pos': 0.0, 'comp...</td>\n",
              "      <td>-0.6280</td>\n",
              "    </tr>\n",
              "    <tr>\n",
              "      <th>3</th>\n",
              "      <td>@realDonaldTrump</td>\n",
              "      <td>Can you imagine what the outcry would be if @S...</td>\n",
              "      <td>http://twitter.com/realDonaldTrump/status/8419...</td>\n",
              "      <td>March 15, 2017 at 07:02AM</td>\n",
              "      <td>{'neg': 0.38, 'neu': 0.62, 'pos': 0.0, 'compou...</td>\n",
              "      <td>-0.9168</td>\n",
              "    </tr>\n",
              "    <tr>\n",
              "      <th>4</th>\n",
              "      <td>@realDonaldTrump</td>\n",
              "      <td>Will be going to Detroit, Michigan (love), tod...</td>\n",
              "      <td>http://twitter.com/realDonaldTrump/status/8419...</td>\n",
              "      <td>March 15, 2017 at 07:13AM</td>\n",
              "      <td>{'neg': 0.0, 'neu': 1.0, 'pos': 0.0, 'compound...</td>\n",
              "      <td>0.0000</td>\n",
              "    </tr>\n",
              "  </tbody>\n",
              "</table>\n",
              "</div>\n",
              "      <button class=\"colab-df-convert\" onclick=\"convertToInteractive('df-a8e79a78-e07b-42d7-8ebb-50a4c9d12601')\"\n",
              "              title=\"Convert this dataframe to an interactive table.\"\n",
              "              style=\"display:none;\">\n",
              "        \n",
              "  <svg xmlns=\"http://www.w3.org/2000/svg\" height=\"24px\"viewBox=\"0 0 24 24\"\n",
              "       width=\"24px\">\n",
              "    <path d=\"M0 0h24v24H0V0z\" fill=\"none\"/>\n",
              "    <path d=\"M18.56 5.44l.94 2.06.94-2.06 2.06-.94-2.06-.94-.94-2.06-.94 2.06-2.06.94zm-11 1L8.5 8.5l.94-2.06 2.06-.94-2.06-.94L8.5 2.5l-.94 2.06-2.06.94zm10 10l.94 2.06.94-2.06 2.06-.94-2.06-.94-.94-2.06-.94 2.06-2.06.94z\"/><path d=\"M17.41 7.96l-1.37-1.37c-.4-.4-.92-.59-1.43-.59-.52 0-1.04.2-1.43.59L10.3 9.45l-7.72 7.72c-.78.78-.78 2.05 0 2.83L4 21.41c.39.39.9.59 1.41.59.51 0 1.02-.2 1.41-.59l7.78-7.78 2.81-2.81c.8-.78.8-2.07 0-2.86zM5.41 20L4 18.59l7.72-7.72 1.47 1.35L5.41 20z\"/>\n",
              "  </svg>\n",
              "      </button>\n",
              "      \n",
              "  <style>\n",
              "    .colab-df-container {\n",
              "      display:flex;\n",
              "      flex-wrap:wrap;\n",
              "      gap: 12px;\n",
              "    }\n",
              "\n",
              "    .colab-df-convert {\n",
              "      background-color: #E8F0FE;\n",
              "      border: none;\n",
              "      border-radius: 50%;\n",
              "      cursor: pointer;\n",
              "      display: none;\n",
              "      fill: #1967D2;\n",
              "      height: 32px;\n",
              "      padding: 0 0 0 0;\n",
              "      width: 32px;\n",
              "    }\n",
              "\n",
              "    .colab-df-convert:hover {\n",
              "      background-color: #E2EBFA;\n",
              "      box-shadow: 0px 1px 2px rgba(60, 64, 67, 0.3), 0px 1px 3px 1px rgba(60, 64, 67, 0.15);\n",
              "      fill: #174EA6;\n",
              "    }\n",
              "\n",
              "    [theme=dark] .colab-df-convert {\n",
              "      background-color: #3B4455;\n",
              "      fill: #D2E3FC;\n",
              "    }\n",
              "\n",
              "    [theme=dark] .colab-df-convert:hover {\n",
              "      background-color: #434B5C;\n",
              "      box-shadow: 0px 1px 3px 1px rgba(0, 0, 0, 0.15);\n",
              "      filter: drop-shadow(0px 1px 2px rgba(0, 0, 0, 0.3));\n",
              "      fill: #FFFFFF;\n",
              "    }\n",
              "  </style>\n",
              "\n",
              "      <script>\n",
              "        const buttonEl =\n",
              "          document.querySelector('#df-a8e79a78-e07b-42d7-8ebb-50a4c9d12601 button.colab-df-convert');\n",
              "        buttonEl.style.display =\n",
              "          google.colab.kernel.accessAllowed ? 'block' : 'none';\n",
              "\n",
              "        async function convertToInteractive(key) {\n",
              "          const element = document.querySelector('#df-a8e79a78-e07b-42d7-8ebb-50a4c9d12601');\n",
              "          const dataTable =\n",
              "            await google.colab.kernel.invokeFunction('convertToInteractive',\n",
              "                                                     [key], {});\n",
              "          if (!dataTable) return;\n",
              "\n",
              "          const docLinkHtml = 'Like what you see? Visit the ' +\n",
              "            '<a target=\"_blank\" href=https://colab.research.google.com/notebooks/data_table.ipynb>data table notebook</a>'\n",
              "            + ' to learn more about interactive tables.';\n",
              "          element.innerHTML = '';\n",
              "          dataTable['output_type'] = 'display_data';\n",
              "          await google.colab.output.renderOutput(dataTable, element);\n",
              "          const docLink = document.createElement('div');\n",
              "          docLink.innerHTML = docLinkHtml;\n",
              "          element.appendChild(docLink);\n",
              "        }\n",
              "      </script>\n",
              "    </div>\n",
              "  </div>\n",
              "  "
            ]
          },
          "metadata": {},
          "execution_count": 14
        }
      ]
    },
    {
      "cell_type": "code",
      "source": [
        "#Need to see whether the overall sentiment is positive or negative.\n",
        "#add a column for a compound score\n",
        "df['comp_score'] = df['compound'].apply(lambda c: 'pos' if c >=0 else 'neg')\n",
        "\n",
        "df.head()"
      ],
      "metadata": {
        "colab": {
          "base_uri": "https://localhost:8080/",
          "height": 337
        },
        "id": "LaDHL-f1tIvQ",
        "outputId": "13f5fcf9-8877-4714-8cae-33a26cd5374d"
      },
      "execution_count": 15,
      "outputs": [
        {
          "output_type": "execute_result",
          "data": {
            "text/plain": [
              "               User                                             Tweets  \\\n",
              "0  @realDonaldTrump          JOBS, JOBS, JOBS! https://t.co/wAkQMKdPXA   \n",
              "1  @realDonaldTrump  Great optimism in America – and the results wi...   \n",
              "2  @realDonaldTrump  Does anybody really believe that a reporter, w...   \n",
              "3  @realDonaldTrump  Can you imagine what the outcry would be if @S...   \n",
              "4  @realDonaldTrump  Will be going to Detroit, Michigan (love), tod...   \n",
              "\n",
              "                                       Link to Tweet  \\\n",
              "0  http://twitter.com/realDonaldTrump/status/8416...   \n",
              "1  http://twitter.com/realDonaldTrump/status/8416...   \n",
              "2  http://twitter.com/realDonaldTrump/status/8419...   \n",
              "3  http://twitter.com/realDonaldTrump/status/8419...   \n",
              "4  http://twitter.com/realDonaldTrump/status/8419...   \n",
              "\n",
              "                   Date/Time  \\\n",
              "0  March 14, 2017 at 11:00AM   \n",
              "1  March 14, 2017 at 12:12PM   \n",
              "2  March 15, 2017 at 06:55AM   \n",
              "3  March 15, 2017 at 07:02AM   \n",
              "4  March 15, 2017 at 07:13AM   \n",
              "\n",
              "                                              scores  compound comp_score  \n",
              "0  {'neg': 0.0, 'neu': 1.0, 'pos': 0.0, 'compound...    0.0000        pos  \n",
              "1  {'neg': 0.0, 'neu': 0.455, 'pos': 0.545, 'comp...    0.8955        pos  \n",
              "2  {'neg': 0.158, 'neu': 0.842, 'pos': 0.0, 'comp...   -0.6280        neg  \n",
              "3  {'neg': 0.38, 'neu': 0.62, 'pos': 0.0, 'compou...   -0.9168        neg  \n",
              "4  {'neg': 0.0, 'neu': 1.0, 'pos': 0.0, 'compound...    0.0000        pos  "
            ],
            "text/html": [
              "\n",
              "  <div id=\"df-923030b3-1459-4270-80ac-ca93f7e49717\">\n",
              "    <div class=\"colab-df-container\">\n",
              "      <div>\n",
              "<style scoped>\n",
              "    .dataframe tbody tr th:only-of-type {\n",
              "        vertical-align: middle;\n",
              "    }\n",
              "\n",
              "    .dataframe tbody tr th {\n",
              "        vertical-align: top;\n",
              "    }\n",
              "\n",
              "    .dataframe thead th {\n",
              "        text-align: right;\n",
              "    }\n",
              "</style>\n",
              "<table border=\"1\" class=\"dataframe\">\n",
              "  <thead>\n",
              "    <tr style=\"text-align: right;\">\n",
              "      <th></th>\n",
              "      <th>User</th>\n",
              "      <th>Tweets</th>\n",
              "      <th>Link to Tweet</th>\n",
              "      <th>Date/Time</th>\n",
              "      <th>scores</th>\n",
              "      <th>compound</th>\n",
              "      <th>comp_score</th>\n",
              "    </tr>\n",
              "  </thead>\n",
              "  <tbody>\n",
              "    <tr>\n",
              "      <th>0</th>\n",
              "      <td>@realDonaldTrump</td>\n",
              "      <td>JOBS, JOBS, JOBS! https://t.co/wAkQMKdPXA</td>\n",
              "      <td>http://twitter.com/realDonaldTrump/status/8416...</td>\n",
              "      <td>March 14, 2017 at 11:00AM</td>\n",
              "      <td>{'neg': 0.0, 'neu': 1.0, 'pos': 0.0, 'compound...</td>\n",
              "      <td>0.0000</td>\n",
              "      <td>pos</td>\n",
              "    </tr>\n",
              "    <tr>\n",
              "      <th>1</th>\n",
              "      <td>@realDonaldTrump</td>\n",
              "      <td>Great optimism in America – and the results wi...</td>\n",
              "      <td>http://twitter.com/realDonaldTrump/status/8416...</td>\n",
              "      <td>March 14, 2017 at 12:12PM</td>\n",
              "      <td>{'neg': 0.0, 'neu': 0.455, 'pos': 0.545, 'comp...</td>\n",
              "      <td>0.8955</td>\n",
              "      <td>pos</td>\n",
              "    </tr>\n",
              "    <tr>\n",
              "      <th>2</th>\n",
              "      <td>@realDonaldTrump</td>\n",
              "      <td>Does anybody really believe that a reporter, w...</td>\n",
              "      <td>http://twitter.com/realDonaldTrump/status/8419...</td>\n",
              "      <td>March 15, 2017 at 06:55AM</td>\n",
              "      <td>{'neg': 0.158, 'neu': 0.842, 'pos': 0.0, 'comp...</td>\n",
              "      <td>-0.6280</td>\n",
              "      <td>neg</td>\n",
              "    </tr>\n",
              "    <tr>\n",
              "      <th>3</th>\n",
              "      <td>@realDonaldTrump</td>\n",
              "      <td>Can you imagine what the outcry would be if @S...</td>\n",
              "      <td>http://twitter.com/realDonaldTrump/status/8419...</td>\n",
              "      <td>March 15, 2017 at 07:02AM</td>\n",
              "      <td>{'neg': 0.38, 'neu': 0.62, 'pos': 0.0, 'compou...</td>\n",
              "      <td>-0.9168</td>\n",
              "      <td>neg</td>\n",
              "    </tr>\n",
              "    <tr>\n",
              "      <th>4</th>\n",
              "      <td>@realDonaldTrump</td>\n",
              "      <td>Will be going to Detroit, Michigan (love), tod...</td>\n",
              "      <td>http://twitter.com/realDonaldTrump/status/8419...</td>\n",
              "      <td>March 15, 2017 at 07:13AM</td>\n",
              "      <td>{'neg': 0.0, 'neu': 1.0, 'pos': 0.0, 'compound...</td>\n",
              "      <td>0.0000</td>\n",
              "      <td>pos</td>\n",
              "    </tr>\n",
              "  </tbody>\n",
              "</table>\n",
              "</div>\n",
              "      <button class=\"colab-df-convert\" onclick=\"convertToInteractive('df-923030b3-1459-4270-80ac-ca93f7e49717')\"\n",
              "              title=\"Convert this dataframe to an interactive table.\"\n",
              "              style=\"display:none;\">\n",
              "        \n",
              "  <svg xmlns=\"http://www.w3.org/2000/svg\" height=\"24px\"viewBox=\"0 0 24 24\"\n",
              "       width=\"24px\">\n",
              "    <path d=\"M0 0h24v24H0V0z\" fill=\"none\"/>\n",
              "    <path d=\"M18.56 5.44l.94 2.06.94-2.06 2.06-.94-2.06-.94-.94-2.06-.94 2.06-2.06.94zm-11 1L8.5 8.5l.94-2.06 2.06-.94-2.06-.94L8.5 2.5l-.94 2.06-2.06.94zm10 10l.94 2.06.94-2.06 2.06-.94-2.06-.94-.94-2.06-.94 2.06-2.06.94z\"/><path d=\"M17.41 7.96l-1.37-1.37c-.4-.4-.92-.59-1.43-.59-.52 0-1.04.2-1.43.59L10.3 9.45l-7.72 7.72c-.78.78-.78 2.05 0 2.83L4 21.41c.39.39.9.59 1.41.59.51 0 1.02-.2 1.41-.59l7.78-7.78 2.81-2.81c.8-.78.8-2.07 0-2.86zM5.41 20L4 18.59l7.72-7.72 1.47 1.35L5.41 20z\"/>\n",
              "  </svg>\n",
              "      </button>\n",
              "      \n",
              "  <style>\n",
              "    .colab-df-container {\n",
              "      display:flex;\n",
              "      flex-wrap:wrap;\n",
              "      gap: 12px;\n",
              "    }\n",
              "\n",
              "    .colab-df-convert {\n",
              "      background-color: #E8F0FE;\n",
              "      border: none;\n",
              "      border-radius: 50%;\n",
              "      cursor: pointer;\n",
              "      display: none;\n",
              "      fill: #1967D2;\n",
              "      height: 32px;\n",
              "      padding: 0 0 0 0;\n",
              "      width: 32px;\n",
              "    }\n",
              "\n",
              "    .colab-df-convert:hover {\n",
              "      background-color: #E2EBFA;\n",
              "      box-shadow: 0px 1px 2px rgba(60, 64, 67, 0.3), 0px 1px 3px 1px rgba(60, 64, 67, 0.15);\n",
              "      fill: #174EA6;\n",
              "    }\n",
              "\n",
              "    [theme=dark] .colab-df-convert {\n",
              "      background-color: #3B4455;\n",
              "      fill: #D2E3FC;\n",
              "    }\n",
              "\n",
              "    [theme=dark] .colab-df-convert:hover {\n",
              "      background-color: #434B5C;\n",
              "      box-shadow: 0px 1px 3px 1px rgba(0, 0, 0, 0.15);\n",
              "      filter: drop-shadow(0px 1px 2px rgba(0, 0, 0, 0.3));\n",
              "      fill: #FFFFFF;\n",
              "    }\n",
              "  </style>\n",
              "\n",
              "      <script>\n",
              "        const buttonEl =\n",
              "          document.querySelector('#df-923030b3-1459-4270-80ac-ca93f7e49717 button.colab-df-convert');\n",
              "        buttonEl.style.display =\n",
              "          google.colab.kernel.accessAllowed ? 'block' : 'none';\n",
              "\n",
              "        async function convertToInteractive(key) {\n",
              "          const element = document.querySelector('#df-923030b3-1459-4270-80ac-ca93f7e49717');\n",
              "          const dataTable =\n",
              "            await google.colab.kernel.invokeFunction('convertToInteractive',\n",
              "                                                     [key], {});\n",
              "          if (!dataTable) return;\n",
              "\n",
              "          const docLinkHtml = 'Like what you see? Visit the ' +\n",
              "            '<a target=\"_blank\" href=https://colab.research.google.com/notebooks/data_table.ipynb>data table notebook</a>'\n",
              "            + ' to learn more about interactive tables.';\n",
              "          element.innerHTML = '';\n",
              "          dataTable['output_type'] = 'display_data';\n",
              "          await google.colab.output.renderOutput(dataTable, element);\n",
              "          const docLink = document.createElement('div');\n",
              "          docLink.innerHTML = docLinkHtml;\n",
              "          element.appendChild(docLink);\n",
              "        }\n",
              "      </script>\n",
              "    </div>\n",
              "  </div>\n",
              "  "
            ]
          },
          "metadata": {},
          "execution_count": 15
        }
      ]
    },
    {
      "cell_type": "code",
      "source": [
        "df['comp_score'].value_counts()"
      ],
      "metadata": {
        "colab": {
          "base_uri": "https://localhost:8080/"
        },
        "id": "eZ8l293x28Hs",
        "outputId": "0984c319-76ed-459b-bdc1-f7390a900a5f"
      },
      "execution_count": 16,
      "outputs": [
        {
          "output_type": "execute_result",
          "data": {
            "text/plain": [
              "pos    4818\n",
              "neg    1179\n",
              "Name: comp_score, dtype: int64"
            ]
          },
          "metadata": {},
          "execution_count": 16
        }
      ]
    },
    {
      "cell_type": "markdown",
      "source": [
        "Hmm. Let's see what the mean, median is."
      ],
      "metadata": {
        "id": "OENfzrX8V89X"
      }
    },
    {
      "cell_type": "code",
      "source": [
        "df['compound'].mean()"
      ],
      "metadata": {
        "colab": {
          "base_uri": "https://localhost:8080/"
        },
        "id": "Ynya64Nfurk8",
        "outputId": "aa3888f7-65ef-4308-f2fc-9c341c7e0a57"
      },
      "execution_count": 17,
      "outputs": [
        {
          "output_type": "execute_result",
          "data": {
            "text/plain": [
              "0.25678395864598963"
            ]
          },
          "metadata": {},
          "execution_count": 17
        }
      ]
    },
    {
      "cell_type": "code",
      "source": [
        "df['compound'].median()"
      ],
      "metadata": {
        "colab": {
          "base_uri": "https://localhost:8080/"
        },
        "id": "oGJall6Fuw5Q",
        "outputId": "1e51f522-7f6f-4595-f649-c4374ba9917e"
      },
      "execution_count": 18,
      "outputs": [
        {
          "output_type": "execute_result",
          "data": {
            "text/plain": [
              "0.34"
            ]
          },
          "metadata": {},
          "execution_count": 18
        }
      ]
    },
    {
      "cell_type": "code",
      "source": [
        "#insurance[[\"sex\", \"children\"]].groupby('sex').count()\n",
        "df[['User', 'comp_score']].groupby('comp_score').count()"
      ],
      "metadata": {
        "colab": {
          "base_uri": "https://localhost:8080/",
          "height": 143
        },
        "id": "mj4J9Nag28Eu",
        "outputId": "75d5fd33-f6ea-458b-d9e7-bcb09ddece6a"
      },
      "execution_count": 19,
      "outputs": [
        {
          "output_type": "execute_result",
          "data": {
            "text/plain": [
              "            User\n",
              "comp_score      \n",
              "neg         1179\n",
              "pos         4818"
            ],
            "text/html": [
              "\n",
              "  <div id=\"df-eba620d7-ff35-4227-b90c-1d67ea99036f\">\n",
              "    <div class=\"colab-df-container\">\n",
              "      <div>\n",
              "<style scoped>\n",
              "    .dataframe tbody tr th:only-of-type {\n",
              "        vertical-align: middle;\n",
              "    }\n",
              "\n",
              "    .dataframe tbody tr th {\n",
              "        vertical-align: top;\n",
              "    }\n",
              "\n",
              "    .dataframe thead th {\n",
              "        text-align: right;\n",
              "    }\n",
              "</style>\n",
              "<table border=\"1\" class=\"dataframe\">\n",
              "  <thead>\n",
              "    <tr style=\"text-align: right;\">\n",
              "      <th></th>\n",
              "      <th>User</th>\n",
              "    </tr>\n",
              "    <tr>\n",
              "      <th>comp_score</th>\n",
              "      <th></th>\n",
              "    </tr>\n",
              "  </thead>\n",
              "  <tbody>\n",
              "    <tr>\n",
              "      <th>neg</th>\n",
              "      <td>1179</td>\n",
              "    </tr>\n",
              "    <tr>\n",
              "      <th>pos</th>\n",
              "      <td>4818</td>\n",
              "    </tr>\n",
              "  </tbody>\n",
              "</table>\n",
              "</div>\n",
              "      <button class=\"colab-df-convert\" onclick=\"convertToInteractive('df-eba620d7-ff35-4227-b90c-1d67ea99036f')\"\n",
              "              title=\"Convert this dataframe to an interactive table.\"\n",
              "              style=\"display:none;\">\n",
              "        \n",
              "  <svg xmlns=\"http://www.w3.org/2000/svg\" height=\"24px\"viewBox=\"0 0 24 24\"\n",
              "       width=\"24px\">\n",
              "    <path d=\"M0 0h24v24H0V0z\" fill=\"none\"/>\n",
              "    <path d=\"M18.56 5.44l.94 2.06.94-2.06 2.06-.94-2.06-.94-.94-2.06-.94 2.06-2.06.94zm-11 1L8.5 8.5l.94-2.06 2.06-.94-2.06-.94L8.5 2.5l-.94 2.06-2.06.94zm10 10l.94 2.06.94-2.06 2.06-.94-2.06-.94-.94-2.06-.94 2.06-2.06.94z\"/><path d=\"M17.41 7.96l-1.37-1.37c-.4-.4-.92-.59-1.43-.59-.52 0-1.04.2-1.43.59L10.3 9.45l-7.72 7.72c-.78.78-.78 2.05 0 2.83L4 21.41c.39.39.9.59 1.41.59.51 0 1.02-.2 1.41-.59l7.78-7.78 2.81-2.81c.8-.78.8-2.07 0-2.86zM5.41 20L4 18.59l7.72-7.72 1.47 1.35L5.41 20z\"/>\n",
              "  </svg>\n",
              "      </button>\n",
              "      \n",
              "  <style>\n",
              "    .colab-df-container {\n",
              "      display:flex;\n",
              "      flex-wrap:wrap;\n",
              "      gap: 12px;\n",
              "    }\n",
              "\n",
              "    .colab-df-convert {\n",
              "      background-color: #E8F0FE;\n",
              "      border: none;\n",
              "      border-radius: 50%;\n",
              "      cursor: pointer;\n",
              "      display: none;\n",
              "      fill: #1967D2;\n",
              "      height: 32px;\n",
              "      padding: 0 0 0 0;\n",
              "      width: 32px;\n",
              "    }\n",
              "\n",
              "    .colab-df-convert:hover {\n",
              "      background-color: #E2EBFA;\n",
              "      box-shadow: 0px 1px 2px rgba(60, 64, 67, 0.3), 0px 1px 3px 1px rgba(60, 64, 67, 0.15);\n",
              "      fill: #174EA6;\n",
              "    }\n",
              "\n",
              "    [theme=dark] .colab-df-convert {\n",
              "      background-color: #3B4455;\n",
              "      fill: #D2E3FC;\n",
              "    }\n",
              "\n",
              "    [theme=dark] .colab-df-convert:hover {\n",
              "      background-color: #434B5C;\n",
              "      box-shadow: 0px 1px 3px 1px rgba(0, 0, 0, 0.15);\n",
              "      filter: drop-shadow(0px 1px 2px rgba(0, 0, 0, 0.3));\n",
              "      fill: #FFFFFF;\n",
              "    }\n",
              "  </style>\n",
              "\n",
              "      <script>\n",
              "        const buttonEl =\n",
              "          document.querySelector('#df-eba620d7-ff35-4227-b90c-1d67ea99036f button.colab-df-convert');\n",
              "        buttonEl.style.display =\n",
              "          google.colab.kernel.accessAllowed ? 'block' : 'none';\n",
              "\n",
              "        async function convertToInteractive(key) {\n",
              "          const element = document.querySelector('#df-eba620d7-ff35-4227-b90c-1d67ea99036f');\n",
              "          const dataTable =\n",
              "            await google.colab.kernel.invokeFunction('convertToInteractive',\n",
              "                                                     [key], {});\n",
              "          if (!dataTable) return;\n",
              "\n",
              "          const docLinkHtml = 'Like what you see? Visit the ' +\n",
              "            '<a target=\"_blank\" href=https://colab.research.google.com/notebooks/data_table.ipynb>data table notebook</a>'\n",
              "            + ' to learn more about interactive tables.';\n",
              "          element.innerHTML = '';\n",
              "          dataTable['output_type'] = 'display_data';\n",
              "          await google.colab.output.renderOutput(dataTable, element);\n",
              "          const docLink = document.createElement('div');\n",
              "          docLink.innerHTML = docLinkHtml;\n",
              "          element.appendChild(docLink);\n",
              "        }\n",
              "      </script>\n",
              "    </div>\n",
              "  </div>\n",
              "  "
            ]
          },
          "metadata": {},
          "execution_count": 19
        }
      ]
    },
    {
      "cell_type": "code",
      "source": [
        "df[['compound', 'User']].groupby('User').median()"
      ],
      "metadata": {
        "colab": {
          "base_uri": "https://localhost:8080/",
          "height": 175
        },
        "id": "e6bblsFh28Bb",
        "outputId": "7b1cdf65-ee6c-477f-ddab-4f02d479f222"
      },
      "execution_count": 20,
      "outputs": [
        {
          "output_type": "execute_result",
          "data": {
            "text/plain": [
              "                  compound\n",
              "User                      \n",
              "@POTUS              0.3818\n",
              "@PressSec           0.3034\n",
              "@realDonaldTrump    0.3182"
            ],
            "text/html": [
              "\n",
              "  <div id=\"df-3a418469-b91b-4cdd-bdfc-4fee5aeee28e\">\n",
              "    <div class=\"colab-df-container\">\n",
              "      <div>\n",
              "<style scoped>\n",
              "    .dataframe tbody tr th:only-of-type {\n",
              "        vertical-align: middle;\n",
              "    }\n",
              "\n",
              "    .dataframe tbody tr th {\n",
              "        vertical-align: top;\n",
              "    }\n",
              "\n",
              "    .dataframe thead th {\n",
              "        text-align: right;\n",
              "    }\n",
              "</style>\n",
              "<table border=\"1\" class=\"dataframe\">\n",
              "  <thead>\n",
              "    <tr style=\"text-align: right;\">\n",
              "      <th></th>\n",
              "      <th>compound</th>\n",
              "    </tr>\n",
              "    <tr>\n",
              "      <th>User</th>\n",
              "      <th></th>\n",
              "    </tr>\n",
              "  </thead>\n",
              "  <tbody>\n",
              "    <tr>\n",
              "      <th>@POTUS</th>\n",
              "      <td>0.3818</td>\n",
              "    </tr>\n",
              "    <tr>\n",
              "      <th>@PressSec</th>\n",
              "      <td>0.3034</td>\n",
              "    </tr>\n",
              "    <tr>\n",
              "      <th>@realDonaldTrump</th>\n",
              "      <td>0.3182</td>\n",
              "    </tr>\n",
              "  </tbody>\n",
              "</table>\n",
              "</div>\n",
              "      <button class=\"colab-df-convert\" onclick=\"convertToInteractive('df-3a418469-b91b-4cdd-bdfc-4fee5aeee28e')\"\n",
              "              title=\"Convert this dataframe to an interactive table.\"\n",
              "              style=\"display:none;\">\n",
              "        \n",
              "  <svg xmlns=\"http://www.w3.org/2000/svg\" height=\"24px\"viewBox=\"0 0 24 24\"\n",
              "       width=\"24px\">\n",
              "    <path d=\"M0 0h24v24H0V0z\" fill=\"none\"/>\n",
              "    <path d=\"M18.56 5.44l.94 2.06.94-2.06 2.06-.94-2.06-.94-.94-2.06-.94 2.06-2.06.94zm-11 1L8.5 8.5l.94-2.06 2.06-.94-2.06-.94L8.5 2.5l-.94 2.06-2.06.94zm10 10l.94 2.06.94-2.06 2.06-.94-2.06-.94-.94-2.06-.94 2.06-2.06.94z\"/><path d=\"M17.41 7.96l-1.37-1.37c-.4-.4-.92-.59-1.43-.59-.52 0-1.04.2-1.43.59L10.3 9.45l-7.72 7.72c-.78.78-.78 2.05 0 2.83L4 21.41c.39.39.9.59 1.41.59.51 0 1.02-.2 1.41-.59l7.78-7.78 2.81-2.81c.8-.78.8-2.07 0-2.86zM5.41 20L4 18.59l7.72-7.72 1.47 1.35L5.41 20z\"/>\n",
              "  </svg>\n",
              "      </button>\n",
              "      \n",
              "  <style>\n",
              "    .colab-df-container {\n",
              "      display:flex;\n",
              "      flex-wrap:wrap;\n",
              "      gap: 12px;\n",
              "    }\n",
              "\n",
              "    .colab-df-convert {\n",
              "      background-color: #E8F0FE;\n",
              "      border: none;\n",
              "      border-radius: 50%;\n",
              "      cursor: pointer;\n",
              "      display: none;\n",
              "      fill: #1967D2;\n",
              "      height: 32px;\n",
              "      padding: 0 0 0 0;\n",
              "      width: 32px;\n",
              "    }\n",
              "\n",
              "    .colab-df-convert:hover {\n",
              "      background-color: #E2EBFA;\n",
              "      box-shadow: 0px 1px 2px rgba(60, 64, 67, 0.3), 0px 1px 3px 1px rgba(60, 64, 67, 0.15);\n",
              "      fill: #174EA6;\n",
              "    }\n",
              "\n",
              "    [theme=dark] .colab-df-convert {\n",
              "      background-color: #3B4455;\n",
              "      fill: #D2E3FC;\n",
              "    }\n",
              "\n",
              "    [theme=dark] .colab-df-convert:hover {\n",
              "      background-color: #434B5C;\n",
              "      box-shadow: 0px 1px 3px 1px rgba(0, 0, 0, 0.15);\n",
              "      filter: drop-shadow(0px 1px 2px rgba(0, 0, 0, 0.3));\n",
              "      fill: #FFFFFF;\n",
              "    }\n",
              "  </style>\n",
              "\n",
              "      <script>\n",
              "        const buttonEl =\n",
              "          document.querySelector('#df-3a418469-b91b-4cdd-bdfc-4fee5aeee28e button.colab-df-convert');\n",
              "        buttonEl.style.display =\n",
              "          google.colab.kernel.accessAllowed ? 'block' : 'none';\n",
              "\n",
              "        async function convertToInteractive(key) {\n",
              "          const element = document.querySelector('#df-3a418469-b91b-4cdd-bdfc-4fee5aeee28e');\n",
              "          const dataTable =\n",
              "            await google.colab.kernel.invokeFunction('convertToInteractive',\n",
              "                                                     [key], {});\n",
              "          if (!dataTable) return;\n",
              "\n",
              "          const docLinkHtml = 'Like what you see? Visit the ' +\n",
              "            '<a target=\"_blank\" href=https://colab.research.google.com/notebooks/data_table.ipynb>data table notebook</a>'\n",
              "            + ' to learn more about interactive tables.';\n",
              "          element.innerHTML = '';\n",
              "          dataTable['output_type'] = 'display_data';\n",
              "          await google.colab.output.renderOutput(dataTable, element);\n",
              "          const docLink = document.createElement('div');\n",
              "          docLink.innerHTML = docLinkHtml;\n",
              "          element.appendChild(docLink);\n",
              "        }\n",
              "      </script>\n",
              "    </div>\n",
              "  </div>\n",
              "  "
            ]
          },
          "metadata": {},
          "execution_count": 20
        }
      ]
    },
    {
      "cell_type": "code",
      "source": [
        "df[['compound', 'User']].groupby('User').mean()"
      ],
      "metadata": {
        "colab": {
          "base_uri": "https://localhost:8080/",
          "height": 175
        },
        "id": "_gpL7DYk27-l",
        "outputId": "b18ad577-3d0f-42cf-97f6-6eb2a35c2992"
      },
      "execution_count": 21,
      "outputs": [
        {
          "output_type": "execute_result",
          "data": {
            "text/plain": [
              "                  compound\n",
              "User                      \n",
              "@POTUS            0.301057\n",
              "@PressSec         0.266799\n",
              "@realDonaldTrump  0.202496"
            ],
            "text/html": [
              "\n",
              "  <div id=\"df-03a56f46-d48e-4ff1-91a1-b142582107a7\">\n",
              "    <div class=\"colab-df-container\">\n",
              "      <div>\n",
              "<style scoped>\n",
              "    .dataframe tbody tr th:only-of-type {\n",
              "        vertical-align: middle;\n",
              "    }\n",
              "\n",
              "    .dataframe tbody tr th {\n",
              "        vertical-align: top;\n",
              "    }\n",
              "\n",
              "    .dataframe thead th {\n",
              "        text-align: right;\n",
              "    }\n",
              "</style>\n",
              "<table border=\"1\" class=\"dataframe\">\n",
              "  <thead>\n",
              "    <tr style=\"text-align: right;\">\n",
              "      <th></th>\n",
              "      <th>compound</th>\n",
              "    </tr>\n",
              "    <tr>\n",
              "      <th>User</th>\n",
              "      <th></th>\n",
              "    </tr>\n",
              "  </thead>\n",
              "  <tbody>\n",
              "    <tr>\n",
              "      <th>@POTUS</th>\n",
              "      <td>0.301057</td>\n",
              "    </tr>\n",
              "    <tr>\n",
              "      <th>@PressSec</th>\n",
              "      <td>0.266799</td>\n",
              "    </tr>\n",
              "    <tr>\n",
              "      <th>@realDonaldTrump</th>\n",
              "      <td>0.202496</td>\n",
              "    </tr>\n",
              "  </tbody>\n",
              "</table>\n",
              "</div>\n",
              "      <button class=\"colab-df-convert\" onclick=\"convertToInteractive('df-03a56f46-d48e-4ff1-91a1-b142582107a7')\"\n",
              "              title=\"Convert this dataframe to an interactive table.\"\n",
              "              style=\"display:none;\">\n",
              "        \n",
              "  <svg xmlns=\"http://www.w3.org/2000/svg\" height=\"24px\"viewBox=\"0 0 24 24\"\n",
              "       width=\"24px\">\n",
              "    <path d=\"M0 0h24v24H0V0z\" fill=\"none\"/>\n",
              "    <path d=\"M18.56 5.44l.94 2.06.94-2.06 2.06-.94-2.06-.94-.94-2.06-.94 2.06-2.06.94zm-11 1L8.5 8.5l.94-2.06 2.06-.94-2.06-.94L8.5 2.5l-.94 2.06-2.06.94zm10 10l.94 2.06.94-2.06 2.06-.94-2.06-.94-.94-2.06-.94 2.06-2.06.94z\"/><path d=\"M17.41 7.96l-1.37-1.37c-.4-.4-.92-.59-1.43-.59-.52 0-1.04.2-1.43.59L10.3 9.45l-7.72 7.72c-.78.78-.78 2.05 0 2.83L4 21.41c.39.39.9.59 1.41.59.51 0 1.02-.2 1.41-.59l7.78-7.78 2.81-2.81c.8-.78.8-2.07 0-2.86zM5.41 20L4 18.59l7.72-7.72 1.47 1.35L5.41 20z\"/>\n",
              "  </svg>\n",
              "      </button>\n",
              "      \n",
              "  <style>\n",
              "    .colab-df-container {\n",
              "      display:flex;\n",
              "      flex-wrap:wrap;\n",
              "      gap: 12px;\n",
              "    }\n",
              "\n",
              "    .colab-df-convert {\n",
              "      background-color: #E8F0FE;\n",
              "      border: none;\n",
              "      border-radius: 50%;\n",
              "      cursor: pointer;\n",
              "      display: none;\n",
              "      fill: #1967D2;\n",
              "      height: 32px;\n",
              "      padding: 0 0 0 0;\n",
              "      width: 32px;\n",
              "    }\n",
              "\n",
              "    .colab-df-convert:hover {\n",
              "      background-color: #E2EBFA;\n",
              "      box-shadow: 0px 1px 2px rgba(60, 64, 67, 0.3), 0px 1px 3px 1px rgba(60, 64, 67, 0.15);\n",
              "      fill: #174EA6;\n",
              "    }\n",
              "\n",
              "    [theme=dark] .colab-df-convert {\n",
              "      background-color: #3B4455;\n",
              "      fill: #D2E3FC;\n",
              "    }\n",
              "\n",
              "    [theme=dark] .colab-df-convert:hover {\n",
              "      background-color: #434B5C;\n",
              "      box-shadow: 0px 1px 3px 1px rgba(0, 0, 0, 0.15);\n",
              "      filter: drop-shadow(0px 1px 2px rgba(0, 0, 0, 0.3));\n",
              "      fill: #FFFFFF;\n",
              "    }\n",
              "  </style>\n",
              "\n",
              "      <script>\n",
              "        const buttonEl =\n",
              "          document.querySelector('#df-03a56f46-d48e-4ff1-91a1-b142582107a7 button.colab-df-convert');\n",
              "        buttonEl.style.display =\n",
              "          google.colab.kernel.accessAllowed ? 'block' : 'none';\n",
              "\n",
              "        async function convertToInteractive(key) {\n",
              "          const element = document.querySelector('#df-03a56f46-d48e-4ff1-91a1-b142582107a7');\n",
              "          const dataTable =\n",
              "            await google.colab.kernel.invokeFunction('convertToInteractive',\n",
              "                                                     [key], {});\n",
              "          if (!dataTable) return;\n",
              "\n",
              "          const docLinkHtml = 'Like what you see? Visit the ' +\n",
              "            '<a target=\"_blank\" href=https://colab.research.google.com/notebooks/data_table.ipynb>data table notebook</a>'\n",
              "            + ' to learn more about interactive tables.';\n",
              "          element.innerHTML = '';\n",
              "          dataTable['output_type'] = 'display_data';\n",
              "          await google.colab.output.renderOutput(dataTable, element);\n",
              "          const docLink = document.createElement('div');\n",
              "          docLink.innerHTML = docLinkHtml;\n",
              "          element.appendChild(docLink);\n",
              "        }\n",
              "      </script>\n",
              "    </div>\n",
              "  </div>\n",
              "  "
            ]
          },
          "metadata": {},
          "execution_count": 21
        }
      ]
    },
    {
      "cell_type": "markdown",
      "source": [
        "Hmm. I feel like there is a lot of nuance in the tweets that isn't necessarily picked up by the vader analysis. "
      ],
      "metadata": {
        "id": "KyczcV9n8a-I"
      }
    },
    {
      "cell_type": "code",
      "source": [],
      "metadata": {
        "id": "rKSNU9AsAq6z"
      },
      "execution_count": null,
      "outputs": []
    },
    {
      "cell_type": "code",
      "source": [],
      "metadata": {
        "id": "tGioSlhXAqKW"
      },
      "execution_count": null,
      "outputs": []
    },
    {
      "cell_type": "code",
      "source": [],
      "metadata": {
        "id": "2-TIbjkVAp-D"
      },
      "execution_count": null,
      "outputs": []
    },
    {
      "cell_type": "code",
      "source": [
        "sns.set_palette('blah')\n",
        "#I can never remember all the palette choices, so this is a good way to see them.:)"
      ],
      "metadata": {
        "id": "rurGcEu46XZw"
      },
      "execution_count": null,
      "outputs": []
    },
    {
      "cell_type": "code",
      "source": [],
      "metadata": {
        "id": "k18oBdXj-FE6"
      },
      "execution_count": null,
      "outputs": []
    },
    {
      "cell_type": "code",
      "source": [
        "#palette=np.array(palette)[ranks] ? to lable bars\n",
        "sns.set_palette('hot')\n",
        "plt.figure(figsize= (8, 10))\n",
        "\n",
        "sns.barplot(x = 'User', y= 'compound',\n",
        "          hue='comp_score', data=df);          "
      ],
      "metadata": {
        "colab": {
          "base_uri": "https://localhost:8080/",
          "height": 606
        },
        "id": "UL8YDNvy6XWR",
        "outputId": "dc010587-7e86-40e3-b24b-dcbb72fd30fd"
      },
      "execution_count": null,
      "outputs": [
        {
          "output_type": "display_data",
          "data": {
            "text/plain": [
              "<Figure size 576x720 with 1 Axes>"
            ],
            "image/png": "[encoded data removed]"
          },
          "metadata": {
            "needs_background": "light"
          }
        }
      ]
    },
    {
      "cell_type": "code",
      "source": [
        "#sns.set_palette('Oranges_r')\n",
        "plt.figure(figsize= (10, 8))\n",
        "\n",
        "sns.histplot(x='comp_score', y='User', cbar=True, data=df);"
      ],
      "metadata": {
        "colab": {
          "base_uri": "https://localhost:8080/",
          "height": 497
        },
        "id": "J-43Pxh56XSz",
        "outputId": "84fe5934-c3d7-48e5-9c97-091f27d5f6dc"
      },
      "execution_count": null,
      "outputs": [
        {
          "output_type": "display_data",
          "data": {
            "text/plain": [
              "<Figure size 720x576 with 2 Axes>"
            ],
            "image/png": "[encoded data removed]"
          },
          "metadata": {
            "needs_background": "light"
          }
        }
      ]
    },
    {
      "cell_type": "code",
      "source": [
        "df.head(2)"
      ],
      "metadata": {
        "colab": {
          "base_uri": "https://localhost:8080/",
          "height": 191
        },
        "id": "GwVVq5xQB7Xr",
        "outputId": "b0fb5b5d-1987-4c2d-a733-0dfa17a1fefb"
      },
      "execution_count": null,
      "outputs": [
        {
          "output_type": "execute_result",
          "data": {
            "text/plain": [
              "               User                                             Tweets  \\\n",
              "0  @realDonaldTrump          JOBS, JOBS, JOBS! https://t.co/wAkQMKdPXA   \n",
              "1  @realDonaldTrump  Great optimism in America – and the results wi...   \n",
              "\n",
              "                                       Link to Tweet  \\\n",
              "0  http://twitter.com/realDonaldTrump/status/8416...   \n",
              "1  http://twitter.com/realDonaldTrump/status/8416...   \n",
              "\n",
              "                   Date/Time  \\\n",
              "0  March 14, 2017 at 11:00AM   \n",
              "1  March 14, 2017 at 12:12PM   \n",
              "\n",
              "                                              scores  compound comp_score  \n",
              "0  {'neg': 0.0, 'neu': 1.0, 'pos': 0.0, 'compound...    0.0000        pos  \n",
              "1  {'neg': 0.0, 'neu': 0.455, 'pos': 0.545, 'comp...    0.8955        pos  "
            ],
            "text/html": [
              "\n",
              "  <div id=\"df-beb01e35-22e3-464e-bcb9-26b8f72039e1\">\n",
              "    <div class=\"colab-df-container\">\n",
              "      <div>\n",
              "<style scoped>\n",
              "    .dataframe tbody tr th:only-of-type {\n",
              "        vertical-align: middle;\n",
              "    }\n",
              "\n",
              "    .dataframe tbody tr th {\n",
              "        vertical-align: top;\n",
              "    }\n",
              "\n",
              "    .dataframe thead th {\n",
              "        text-align: right;\n",
              "    }\n",
              "</style>\n",
              "<table border=\"1\" class=\"dataframe\">\n",
              "  <thead>\n",
              "    <tr style=\"text-align: right;\">\n",
              "      <th></th>\n",
              "      <th>User</th>\n",
              "      <th>Tweets</th>\n",
              "      <th>Link to Tweet</th>\n",
              "      <th>Date/Time</th>\n",
              "      <th>scores</th>\n",
              "      <th>compound</th>\n",
              "      <th>comp_score</th>\n",
              "    </tr>\n",
              "  </thead>\n",
              "  <tbody>\n",
              "    <tr>\n",
              "      <th>0</th>\n",
              "      <td>@realDonaldTrump</td>\n",
              "      <td>JOBS, JOBS, JOBS! https://t.co/wAkQMKdPXA</td>\n",
              "      <td>http://twitter.com/realDonaldTrump/status/8416...</td>\n",
              "      <td>March 14, 2017 at 11:00AM</td>\n",
              "      <td>{'neg': 0.0, 'neu': 1.0, 'pos': 0.0, 'compound...</td>\n",
              "      <td>0.0000</td>\n",
              "      <td>pos</td>\n",
              "    </tr>\n",
              "    <tr>\n",
              "      <th>1</th>\n",
              "      <td>@realDonaldTrump</td>\n",
              "      <td>Great optimism in America – and the results wi...</td>\n",
              "      <td>http://twitter.com/realDonaldTrump/status/8416...</td>\n",
              "      <td>March 14, 2017 at 12:12PM</td>\n",
              "      <td>{'neg': 0.0, 'neu': 0.455, 'pos': 0.545, 'comp...</td>\n",
              "      <td>0.8955</td>\n",
              "      <td>pos</td>\n",
              "    </tr>\n",
              "  </tbody>\n",
              "</table>\n",
              "</div>\n",
              "      <button class=\"colab-df-convert\" onclick=\"convertToInteractive('df-beb01e35-22e3-464e-bcb9-26b8f72039e1')\"\n",
              "              title=\"Convert this dataframe to an interactive table.\"\n",
              "              style=\"display:none;\">\n",
              "        \n",
              "  <svg xmlns=\"http://www.w3.org/2000/svg\" height=\"24px\"viewBox=\"0 0 24 24\"\n",
              "       width=\"24px\">\n",
              "    <path d=\"M0 0h24v24H0V0z\" fill=\"none\"/>\n",
              "    <path d=\"M18.56 5.44l.94 2.06.94-2.06 2.06-.94-2.06-.94-.94-2.06-.94 2.06-2.06.94zm-11 1L8.5 8.5l.94-2.06 2.06-.94-2.06-.94L8.5 2.5l-.94 2.06-2.06.94zm10 10l.94 2.06.94-2.06 2.06-.94-2.06-.94-.94-2.06-.94 2.06-2.06.94z\"/><path d=\"M17.41 7.96l-1.37-1.37c-.4-.4-.92-.59-1.43-.59-.52 0-1.04.2-1.43.59L10.3 9.45l-7.72 7.72c-.78.78-.78 2.05 0 2.83L4 21.41c.39.39.9.59 1.41.59.51 0 1.02-.2 1.41-.59l7.78-7.78 2.81-2.81c.8-.78.8-2.07 0-2.86zM5.41 20L4 18.59l7.72-7.72 1.47 1.35L5.41 20z\"/>\n",
              "  </svg>\n",
              "      </button>\n",
              "      \n",
              "  <style>\n",
              "    .colab-df-container {\n",
              "      display:flex;\n",
              "      flex-wrap:wrap;\n",
              "      gap: 12px;\n",
              "    }\n",
              "\n",
              "    .colab-df-convert {\n",
              "      background-color: #E8F0FE;\n",
              "      border: none;\n",
              "      border-radius: 50%;\n",
              "      cursor: pointer;\n",
              "      display: none;\n",
              "      fill: #1967D2;\n",
              "      height: 32px;\n",
              "      padding: 0 0 0 0;\n",
              "      width: 32px;\n",
              "    }\n",
              "\n",
              "    .colab-df-convert:hover {\n",
              "      background-color: #E2EBFA;\n",
              "      box-shadow: 0px 1px 2px rgba(60, 64, 67, 0.3), 0px 1px 3px 1px rgba(60, 64, 67, 0.15);\n",
              "      fill: #174EA6;\n",
              "    }\n",
              "\n",
              "    [theme=dark] .colab-df-convert {\n",
              "      background-color: #3B4455;\n",
              "      fill: #D2E3FC;\n",
              "    }\n",
              "\n",
              "    [theme=dark] .colab-df-convert:hover {\n",
              "      background-color: #434B5C;\n",
              "      box-shadow: 0px 1px 3px 1px rgba(0, 0, 0, 0.15);\n",
              "      filter: drop-shadow(0px 1px 2px rgba(0, 0, 0, 0.3));\n",
              "      fill: #FFFFFF;\n",
              "    }\n",
              "  </style>\n",
              "\n",
              "      <script>\n",
              "        const buttonEl =\n",
              "          document.querySelector('#df-beb01e35-22e3-464e-bcb9-26b8f72039e1 button.colab-df-convert');\n",
              "        buttonEl.style.display =\n",
              "          google.colab.kernel.accessAllowed ? 'block' : 'none';\n",
              "\n",
              "        async function convertToInteractive(key) {\n",
              "          const element = document.querySelector('#df-beb01e35-22e3-464e-bcb9-26b8f72039e1');\n",
              "          const dataTable =\n",
              "            await google.colab.kernel.invokeFunction('convertToInteractive',\n",
              "                                                     [key], {});\n",
              "          if (!dataTable) return;\n",
              "\n",
              "          const docLinkHtml = 'Like what you see? Visit the ' +\n",
              "            '<a target=\"_blank\" href=https://colab.research.google.com/notebooks/data_table.ipynb>data table notebook</a>'\n",
              "            + ' to learn more about interactive tables.';\n",
              "          element.innerHTML = '';\n",
              "          dataTable['output_type'] = 'display_data';\n",
              "          await google.colab.output.renderOutput(dataTable, element);\n",
              "          const docLink = document.createElement('div');\n",
              "          docLink.innerHTML = docLinkHtml;\n",
              "          element.appendChild(docLink);\n",
              "        }\n",
              "      </script>\n",
              "    </div>\n",
              "  </div>\n",
              "  "
            ]
          },
          "metadata": {},
          "execution_count": 33
        }
      ]
    },
    {
      "cell_type": "markdown",
      "source": [
        "Messing with various visualizations and color palettes."
      ],
      "metadata": {
        "id": "uxskToobtH8f"
      }
    },
    {
      "cell_type": "code",
      "source": [
        "#sns.set_palette('Oranges')\n",
        "\n",
        "#sns.histplot(x='User', y = 'compound', hue = 'comp_score', data=df);"
      ],
      "metadata": {
        "id": "hoQIBteC6XPl"
      },
      "execution_count": null,
      "outputs": []
    },
    {
      "cell_type": "code",
      "source": [
        "#bivariate--x and y values looks like a heatmap\n",
        "#add the parameter cbar to get the range of values\n",
        "sns.set_palette(\"Spectral\")\n",
        "plt.figure(figsize = (8, 5))\n",
        "sns.histplot(x='User', y='comp_score', cbar=True, data=df);"
      ],
      "metadata": {
        "colab": {
          "base_uri": "https://localhost:8080/",
          "height": 334
        },
        "id": "JJXKMdBX_Ohp",
        "outputId": "7879f94f-3e42-44d0-9040-db07c7acd6e5"
      },
      "execution_count": null,
      "outputs": [
        {
          "output_type": "display_data",
          "data": {
            "text/plain": [
              "<Figure size 576x360 with 2 Axes>"
            ],
            "image/png": "[encoded data removed]"
          },
          "metadata": {
            "needs_background": "light"
          }
        }
      ]
    },
    {
      "cell_type": "code",
      "source": [
        "sns.set_palette(\"Spectral\")\n",
        "\n",
        "plt.figure(figsize=(8, 6))\n",
        "sns.histplot(x='User', y= 'compound', hue = 'comp_score', data=df);\n"
      ],
      "metadata": {
        "colab": {
          "base_uri": "https://localhost:8080/",
          "height": 388
        },
        "id": "MeVlZHjF_OeE",
        "outputId": "8555bf4d-d829-4687-c0a8-d5dafa84f9a7"
      },
      "execution_count": null,
      "outputs": [
        {
          "output_type": "display_data",
          "data": {
            "text/plain": [
              "<Figure size 576x432 with 1 Axes>"
            ],
            "image/png": "[encoded data removed]"
          },
          "metadata": {
            "needs_background": "light"
          }
        }
      ]
    },
    {
      "cell_type": "code",
      "source": [
        "sns.histplot(x='User', hue='comp_score', data=df);"
      ],
      "metadata": {
        "colab": {
          "base_uri": "https://localhost:8080/",
          "height": 279
        },
        "id": "1hddbNkKW1D3",
        "outputId": "8c70428e-abc0-4631-c547-f7fc83b526f4"
      },
      "execution_count": null,
      "outputs": [
        {
          "output_type": "display_data",
          "data": {
            "text/plain": [
              "<Figure size 432x288 with 1 Axes>"
            ],
            "image/png": "[encoded data removed]"
          },
          "metadata": {
            "needs_background": "light"
          }
        }
      ]
    },
    {
      "cell_type": "markdown",
      "source": [
        "- adding the shrink arg gives you space between the bars.\n",
        "- also using the palette arg to change the color of the plot"
      ],
      "metadata": {
        "id": "HsMQwsD2P6F7"
      }
    },
    {
      "cell_type": "code",
      "source": [
        "sns.histplot(x='User', hue='comp_score', multiple='dodge', palette='Reds',\n",
        "             data=df, shrink=0.8); "
      ],
      "metadata": {
        "colab": {
          "base_uri": "https://localhost:8080/",
          "height": 279
        },
        "id": "bT8mOteDPtxT",
        "outputId": "5b961019-3824-47fa-d95c-24c01b2c7d0d"
      },
      "execution_count": null,
      "outputs": [
        {
          "output_type": "display_data",
          "data": {
            "text/plain": [
              "<Figure size 432x288 with 1 Axes>"
            ],
            "image/png": "[encoded data removed]"
          },
          "metadata": {
            "needs_background": "light"
          }
        }
      ]
    },
    {
      "cell_type": "code",
      "source": [
        "df['comp_score'].value_counts()"
      ],
      "metadata": {
        "colab": {
          "base_uri": "https://localhost:8080/"
        },
        "id": "kkg7KdML_Oa1",
        "outputId": "7d3b28fa-34c4-4872-80e1-7ec15bbc9e84"
      },
      "execution_count": null,
      "outputs": [
        {
          "output_type": "execute_result",
          "data": {
            "text/plain": [
              "pos    4818\n",
              "neg    1179\n",
              "Name: comp_score, dtype: int64"
            ]
          },
          "metadata": {},
          "execution_count": 31
        }
      ]
    },
    {
      "cell_type": "code",
      "source": [
        "drumpf['compound'].mean()"
      ],
      "metadata": {
        "colab": {
          "base_uri": "https://localhost:8080/"
        },
        "id": "9f4bTMn_WG2u",
        "outputId": "7e1dbd1d-c033-4c3a-dbd8-ba2b714d2780"
      },
      "execution_count": null,
      "outputs": [
        {
          "output_type": "execute_result",
          "data": {
            "text/plain": [
              "0.20249574787393695"
            ]
          },
          "metadata": {},
          "execution_count": 51
        }
      ]
    },
    {
      "cell_type": "code",
      "source": [
        "drumpf['compound'].median()"
      ],
      "metadata": {
        "colab": {
          "base_uri": "https://localhost:8080/"
        },
        "id": "ZKrKiqYgWNDG",
        "outputId": "defab0f7-ca55-462d-ba28-c7ad47a92e03"
      },
      "execution_count": null,
      "outputs": [
        {
          "output_type": "execute_result",
          "data": {
            "text/plain": [
              "0.3182"
            ]
          },
          "metadata": {},
          "execution_count": 52
        }
      ]
    },
    {
      "cell_type": "markdown",
      "source": [
        "isolate trump's tweets and then visualize separately. use .iloc"
      ],
      "metadata": {
        "id": "cmyT0j0-HLvy"
      }
    },
    {
      "cell_type": "code",
      "source": [
        "#ex: NL_batting98_2008 = AL_NLbatting98_2008.iloc[(AL_NLbatting98_2008['League']== \"NL\").values]\n",
        "drumpf = df.iloc[(df['User']== \"@realDonaldTrump\").values]\n",
        "drumpf.head()"
      ],
      "metadata": {
        "id": "33leWuoE_OXb",
        "colab": {
          "base_uri": "https://localhost:8080/",
          "height": 337
        },
        "outputId": "a168cfd7-bc6e-4ec9-ef8e-7421681fe31d"
      },
      "execution_count": null,
      "outputs": [
        {
          "output_type": "execute_result",
          "data": {
            "text/plain": [
              "               User                                             Tweets  \\\n",
              "0  @realDonaldTrump          JOBS, JOBS, JOBS! https://t.co/wAkQMKdPXA   \n",
              "1  @realDonaldTrump  Great optimism in America – and the results wi...   \n",
              "2  @realDonaldTrump  Does anybody really believe that a reporter, w...   \n",
              "3  @realDonaldTrump  Can you imagine what the outcry would be if @S...   \n",
              "4  @realDonaldTrump  Will be going to Detroit, Michigan (love), tod...   \n",
              "\n",
              "                                       Link to Tweet  \\\n",
              "0  http://twitter.com/realDonaldTrump/status/8416...   \n",
              "1  http://twitter.com/realDonaldTrump/status/8416...   \n",
              "2  http://twitter.com/realDonaldTrump/status/8419...   \n",
              "3  http://twitter.com/realDonaldTrump/status/8419...   \n",
              "4  http://twitter.com/realDonaldTrump/status/8419...   \n",
              "\n",
              "                   Date/Time  \\\n",
              "0  March 14, 2017 at 11:00AM   \n",
              "1  March 14, 2017 at 12:12PM   \n",
              "2  March 15, 2017 at 06:55AM   \n",
              "3  March 15, 2017 at 07:02AM   \n",
              "4  March 15, 2017 at 07:13AM   \n",
              "\n",
              "                                              scores  compound comp_score  \n",
              "0  {'neg': 0.0, 'neu': 1.0, 'pos': 0.0, 'compound...    0.0000        pos  \n",
              "1  {'neg': 0.0, 'neu': 0.455, 'pos': 0.545, 'comp...    0.8955        pos  \n",
              "2  {'neg': 0.158, 'neu': 0.842, 'pos': 0.0, 'comp...   -0.6280        neg  \n",
              "3  {'neg': 0.38, 'neu': 0.62, 'pos': 0.0, 'compou...   -0.9168        neg  \n",
              "4  {'neg': 0.0, 'neu': 1.0, 'pos': 0.0, 'compound...    0.0000        pos  "
            ],
            "text/html": [
              "\n",
              "  <div id=\"df-93d37b37-a2e0-4a88-997f-3e56db256411\">\n",
              "    <div class=\"colab-df-container\">\n",
              "      <div>\n",
              "<style scoped>\n",
              "    .dataframe tbody tr th:only-of-type {\n",
              "        vertical-align: middle;\n",
              "    }\n",
              "\n",
              "    .dataframe tbody tr th {\n",
              "        vertical-align: top;\n",
              "    }\n",
              "\n",
              "    .dataframe thead th {\n",
              "        text-align: right;\n",
              "    }\n",
              "</style>\n",
              "<table border=\"1\" class=\"dataframe\">\n",
              "  <thead>\n",
              "    <tr style=\"text-align: right;\">\n",
              "      <th></th>\n",
              "      <th>User</th>\n",
              "      <th>Tweets</th>\n",
              "      <th>Link to Tweet</th>\n",
              "      <th>Date/Time</th>\n",
              "      <th>scores</th>\n",
              "      <th>compound</th>\n",
              "      <th>comp_score</th>\n",
              "    </tr>\n",
              "  </thead>\n",
              "  <tbody>\n",
              "    <tr>\n",
              "      <th>0</th>\n",
              "      <td>@realDonaldTrump</td>\n",
              "      <td>JOBS, JOBS, JOBS! https://t.co/wAkQMKdPXA</td>\n",
              "      <td>http://twitter.com/realDonaldTrump/status/8416...</td>\n",
              "      <td>March 14, 2017 at 11:00AM</td>\n",
              "      <td>{'neg': 0.0, 'neu': 1.0, 'pos': 0.0, 'compound...</td>\n",
              "      <td>0.0000</td>\n",
              "      <td>pos</td>\n",
              "    </tr>\n",
              "    <tr>\n",
              "      <th>1</th>\n",
              "      <td>@realDonaldTrump</td>\n",
              "      <td>Great optimism in America – and the results wi...</td>\n",
              "      <td>http://twitter.com/realDonaldTrump/status/8416...</td>\n",
              "      <td>March 14, 2017 at 12:12PM</td>\n",
              "      <td>{'neg': 0.0, 'neu': 0.455, 'pos': 0.545, 'comp...</td>\n",
              "      <td>0.8955</td>\n",
              "      <td>pos</td>\n",
              "    </tr>\n",
              "    <tr>\n",
              "      <th>2</th>\n",
              "      <td>@realDonaldTrump</td>\n",
              "      <td>Does anybody really believe that a reporter, w...</td>\n",
              "      <td>http://twitter.com/realDonaldTrump/status/8419...</td>\n",
              "      <td>March 15, 2017 at 06:55AM</td>\n",
              "      <td>{'neg': 0.158, 'neu': 0.842, 'pos': 0.0, 'comp...</td>\n",
              "      <td>-0.6280</td>\n",
              "      <td>neg</td>\n",
              "    </tr>\n",
              "    <tr>\n",
              "      <th>3</th>\n",
              "      <td>@realDonaldTrump</td>\n",
              "      <td>Can you imagine what the outcry would be if @S...</td>\n",
              "      <td>http://twitter.com/realDonaldTrump/status/8419...</td>\n",
              "      <td>March 15, 2017 at 07:02AM</td>\n",
              "      <td>{'neg': 0.38, 'neu': 0.62, 'pos': 0.0, 'compou...</td>\n",
              "      <td>-0.9168</td>\n",
              "      <td>neg</td>\n",
              "    </tr>\n",
              "    <tr>\n",
              "      <th>4</th>\n",
              "      <td>@realDonaldTrump</td>\n",
              "      <td>Will be going to Detroit, Michigan (love), tod...</td>\n",
              "      <td>http://twitter.com/realDonaldTrump/status/8419...</td>\n",
              "      <td>March 15, 2017 at 07:13AM</td>\n",
              "      <td>{'neg': 0.0, 'neu': 1.0, 'pos': 0.0, 'compound...</td>\n",
              "      <td>0.0000</td>\n",
              "      <td>pos</td>\n",
              "    </tr>\n",
              "  </tbody>\n",
              "</table>\n",
              "</div>\n",
              "      <button class=\"colab-df-convert\" onclick=\"convertToInteractive('df-93d37b37-a2e0-4a88-997f-3e56db256411')\"\n",
              "              title=\"Convert this dataframe to an interactive table.\"\n",
              "              style=\"display:none;\">\n",
              "        \n",
              "  <svg xmlns=\"http://www.w3.org/2000/svg\" height=\"24px\"viewBox=\"0 0 24 24\"\n",
              "       width=\"24px\">\n",
              "    <path d=\"M0 0h24v24H0V0z\" fill=\"none\"/>\n",
              "    <path d=\"M18.56 5.44l.94 2.06.94-2.06 2.06-.94-2.06-.94-.94-2.06-.94 2.06-2.06.94zm-11 1L8.5 8.5l.94-2.06 2.06-.94-2.06-.94L8.5 2.5l-.94 2.06-2.06.94zm10 10l.94 2.06.94-2.06 2.06-.94-2.06-.94-.94-2.06-.94 2.06-2.06.94z\"/><path d=\"M17.41 7.96l-1.37-1.37c-.4-.4-.92-.59-1.43-.59-.52 0-1.04.2-1.43.59L10.3 9.45l-7.72 7.72c-.78.78-.78 2.05 0 2.83L4 21.41c.39.39.9.59 1.41.59.51 0 1.02-.2 1.41-.59l7.78-7.78 2.81-2.81c.8-.78.8-2.07 0-2.86zM5.41 20L4 18.59l7.72-7.72 1.47 1.35L5.41 20z\"/>\n",
              "  </svg>\n",
              "      </button>\n",
              "      \n",
              "  <style>\n",
              "    .colab-df-container {\n",
              "      display:flex;\n",
              "      flex-wrap:wrap;\n",
              "      gap: 12px;\n",
              "    }\n",
              "\n",
              "    .colab-df-convert {\n",
              "      background-color: #E8F0FE;\n",
              "      border: none;\n",
              "      border-radius: 50%;\n",
              "      cursor: pointer;\n",
              "      display: none;\n",
              "      fill: #1967D2;\n",
              "      height: 32px;\n",
              "      padding: 0 0 0 0;\n",
              "      width: 32px;\n",
              "    }\n",
              "\n",
              "    .colab-df-convert:hover {\n",
              "      background-color: #E2EBFA;\n",
              "      box-shadow: 0px 1px 2px rgba(60, 64, 67, 0.3), 0px 1px 3px 1px rgba(60, 64, 67, 0.15);\n",
              "      fill: #174EA6;\n",
              "    }\n",
              "\n",
              "    [theme=dark] .colab-df-convert {\n",
              "      background-color: #3B4455;\n",
              "      fill: #D2E3FC;\n",
              "    }\n",
              "\n",
              "    [theme=dark] .colab-df-convert:hover {\n",
              "      background-color: #434B5C;\n",
              "      box-shadow: 0px 1px 3px 1px rgba(0, 0, 0, 0.15);\n",
              "      filter: drop-shadow(0px 1px 2px rgba(0, 0, 0, 0.3));\n",
              "      fill: #FFFFFF;\n",
              "    }\n",
              "  </style>\n",
              "\n",
              "      <script>\n",
              "        const buttonEl =\n",
              "          document.querySelector('#df-93d37b37-a2e0-4a88-997f-3e56db256411 button.colab-df-convert');\n",
              "        buttonEl.style.display =\n",
              "          google.colab.kernel.accessAllowed ? 'block' : 'none';\n",
              "\n",
              "        async function convertToInteractive(key) {\n",
              "          const element = document.querySelector('#df-93d37b37-a2e0-4a88-997f-3e56db256411');\n",
              "          const dataTable =\n",
              "            await google.colab.kernel.invokeFunction('convertToInteractive',\n",
              "                                                     [key], {});\n",
              "          if (!dataTable) return;\n",
              "\n",
              "          const docLinkHtml = 'Like what you see? Visit the ' +\n",
              "            '<a target=\"_blank\" href=https://colab.research.google.com/notebooks/data_table.ipynb>data table notebook</a>'\n",
              "            + ' to learn more about interactive tables.';\n",
              "          element.innerHTML = '';\n",
              "          dataTable['output_type'] = 'display_data';\n",
              "          await google.colab.output.renderOutput(dataTable, element);\n",
              "          const docLink = document.createElement('div');\n",
              "          docLink.innerHTML = docLinkHtml;\n",
              "          element.appendChild(docLink);\n",
              "        }\n",
              "      </script>\n",
              "    </div>\n",
              "  </div>\n",
              "  "
            ]
          },
          "metadata": {},
          "execution_count": 33
        }
      ]
    },
    {
      "cell_type": "code",
      "source": [
        "drumpf['comp_score'].value_counts()"
      ],
      "metadata": {
        "id": "WH1yylMMG0Pf",
        "colab": {
          "base_uri": "https://localhost:8080/"
        },
        "outputId": "46218564-4f3e-4c66-ba59-bf71ede43a28"
      },
      "execution_count": null,
      "outputs": [
        {
          "output_type": "execute_result",
          "data": {
            "text/plain": [
              "pos    1449\n",
              "neg     550\n",
              "Name: comp_score, dtype: int64"
            ]
          },
          "metadata": {},
          "execution_count": 34
        }
      ]
    },
    {
      "cell_type": "markdown",
      "source": [
        "Hmmm...He's more negative/hateful...which makes me think that Vader isn't the best (?) at analyzing sentiment. I don't know..."
      ],
      "metadata": {
        "id": "fgvmaV9YHixE"
      }
    },
    {
      "cell_type": "code",
      "source": [
        "sns.histplot(x='compound', hue='comp_score', element='step',data=drumpf);"
      ],
      "metadata": {
        "colab": {
          "base_uri": "https://localhost:8080/",
          "height": 279
        },
        "id": "sMp7cLPgWdNk",
        "outputId": "e3d4a81d-f7b2-4013-9709-ed76f47de2cb"
      },
      "execution_count": null,
      "outputs": [
        {
          "output_type": "display_data",
          "data": {
            "text/plain": [
              "<Figure size 432x288 with 1 Axes>"
            ],
            "image/png": "[encoded data removed]"
          },
          "metadata": {
            "needs_background": "light"
          }
        }
      ]
    },
    {
      "cell_type": "code",
      "source": [
        "sns.histplot(x='User', hue='comp_score', multiple='dodge', palette='Reds',\n",
        "             data=drumpf, shrink=0.8); "
      ],
      "metadata": {
        "id": "BRn5kBglG0MD",
        "colab": {
          "base_uri": "https://localhost:8080/",
          "height": 279
        },
        "outputId": "6584bb76-350a-4870-c16f-aa6689799829"
      },
      "execution_count": null,
      "outputs": [
        {
          "output_type": "display_data",
          "data": {
            "text/plain": [
              "<Figure size 432x288 with 1 Axes>"
            ],
            "image/png": "[encoded data removed]"
          },
          "metadata": {
            "needs_background": "light"
          }
        }
      ]
    },
    {
      "cell_type": "markdown",
      "source": [
        "I guess I was surprised at what was found. I didn't expect more positive sentiments, at. all. I lived through that administration and the levels of negativity from speeches, to tweets, to press sec q&a...so much more negative than what was captured on Twitter. This analysis also doesn't capture lies & misinformation in his tweets. I'll have to think on this some more. This was a interesting exercise nonetheless."
      ],
      "metadata": {
        "id": "COgMp5YPQUvA"
      }
    },
    {
      "cell_type": "code",
      "source": [],
      "metadata": {
        "id": "iuFpjxZ7G0Ik"
      },
      "execution_count": null,
      "outputs": []
    },
    {
      "cell_type": "code",
      "source": [],
      "metadata": {
        "id": "vJwvFzU_G0FZ"
      },
      "execution_count": null,
      "outputs": []
    },
    {
      "cell_type": "code",
      "source": [],
      "metadata": {
        "id": "I4OCLJEPIQjt"
      },
      "execution_count": null,
      "outputs": []
    }
  ]
}